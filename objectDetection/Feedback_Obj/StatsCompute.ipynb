{
 "cells": [
  {
   "cell_type": "code",
   "execution_count": 50,
   "metadata": {},
   "outputs": [
    {
     "name": "stdout",
     "output_type": "stream",
     "text": [
      "variance(human) = 0.77\n",
      "variance(machine) = 1.02\n",
      "There is difference between human and machine.\n",
      "(p < 0.05, two-tailed t-test, t = 2.32, df = 10)\n"
     ]
    }
   ],
   "source": [
    "import numpy as np\n",
    "import random\n",
    "import math\n",
    "import numpy as np\n",
    "# !pip install pingouin\n",
    "import pingouin as pg\n",
    "\n",
    "#replace human_data and machine_data with your actual data\n",
    "human_data = np.random.normal(loc= 300.0, size=100)#.tolist()\n",
    "machine_data = np.random.normal(loc= 299.0, size=10)#.tolist()\n",
    "\n",
    "result = pg.ttest(human_data, machine_data, correction=True) \n",
    "#Print the result\n",
    "#print(result)\n",
    "\n",
    "# reporting format in Turing project (p < 10−15, two-tailed t-test, t = 8.5, df = 478)\n",
    "pval = result.at['T-test',\"p-val\"]\n",
    "Tval = result.at['T-test',\"T\"]\n",
    "dof = math.floor(result.at['T-test',\"dof\"])\n",
    "\n",
    "print('variance(human) = ' + str(\"{0:.2f}\".format(np.var(human_data))))\n",
    "print('variance(machine) = ' + str(\"{0:.2f}\".format(np.var(machine_data))))\n",
    "\n",
    "\n",
    "if pval < 0.05:\n",
    "    print('There is difference between human and machine.')\n",
    "    if pval > 0.01 and pval < 0.05:\n",
    "        print(\"(p < 0.05, two-tailed t-test, t = \" + str(\"{0:.2f}\".format(Tval)) + \", df = \" + str(dof) + \")\")\n",
    "    elif pval > 0.001 and pval <= 0.01:\n",
    "        print(\"(p < 0.01, two-tailed t-test, t = \" + str(\"{0:.2f}\".format(Tval)) + \", df = \" + str(dof) + \")\")\n",
    "    elif pval > 0.0001 and pval <= 0.001:\n",
    "        print(\"(p < 0.001, two-tailed t-test, t = \" + str(\"{0:.2f}\".format(Tval)) + \", df = \" + str(dof) + \")\")\n",
    "    else:\n",
    "        print(\"(p < 0.0001, two-tailed t-test, t = \" + str(\"{0:.2f}\".format(Tval)) + \", df = \" + str(dof) + \")\")\n",
    "else:\n",
    "    print('There is NO difference between human and machine.')\n",
    "    print(\"(p > 0.05, two-tailed t-test, t = \" + str(\"{0:.2f}\".format(Tval)) + \", df = \" + str(dof) + \")\")"
   ]
  },
  {
   "cell_type": "code",
   "execution_count": null,
   "metadata": {},
   "outputs": [],
   "source": []
  },
  {
   "cell_type": "code",
   "execution_count": null,
   "metadata": {},
   "outputs": [],
   "source": []
  }
 ],
 "metadata": {
  "kernelspec": {
   "display_name": "Python 3",
   "language": "python",
   "name": "python3"
  },
  "language_info": {
   "codemirror_mode": {
    "name": "ipython",
    "version": 3
   },
   "file_extension": ".py",
   "mimetype": "text/x-python",
   "name": "python",
   "nbconvert_exporter": "python",
   "pygments_lexer": "ipython3",
   "version": "3.7.4"
  }
 },
 "nbformat": 4,
 "nbformat_minor": 5
}
