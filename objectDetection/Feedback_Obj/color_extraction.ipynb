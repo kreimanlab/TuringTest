{
 "cells": [
  {
   "cell_type": "code",
   "execution_count": 1,
   "metadata": {},
   "outputs": [],
   "source": [
    "import os\n",
    "from PIL import Image\n",
    "import matplotlib.pyplot as plt\n",
    "import pickle"
   ]
  },
  {
   "cell_type": "code",
   "execution_count": 2,
   "metadata": {},
   "outputs": [],
   "source": [
    "import colorthief"
   ]
  },
  {
   "cell_type": "code",
   "execution_count": 3,
   "metadata": {},
   "outputs": [],
   "source": [
    "from colorthief import ColorThief"
   ]
  },
  {
   "cell_type": "code",
   "execution_count": 4,
   "metadata": {},
   "outputs": [],
   "source": [
    "from scipy.spatial import KDTree"
   ]
  },
  {
   "cell_type": "code",
   "execution_count": 5,
   "metadata": {},
   "outputs": [],
   "source": [
    "import webcolors"
   ]
  },
  {
   "cell_type": "code",
   "execution_count": 6,
   "metadata": {},
   "outputs": [],
   "source": [
    "from webcolors import (\n",
    "    CSS3_HEX_TO_NAMES,\n",
    "#     css3_hex_to_names,\n",
    "    hex_to_rgb,\n",
    ")"
   ]
  },
  {
   "cell_type": "code",
   "execution_count": 7,
   "metadata": {},
   "outputs": [],
   "source": [
    "with open('css_color_to_name.p','rb') as F:\n",
    "    color_to_name = pickle.load(F)"
   ]
  },
  {
   "cell_type": "code",
   "execution_count": 8,
   "metadata": {},
   "outputs": [],
   "source": [
    "restricted_css3 = {}\n",
    "for key in CSS3_HEX_TO_NAMES.keys():\n",
    "    if color_to_name[key] != 'none':\n",
    "        restricted_css3[key] = CSS3_HEX_TO_NAMES[key]"
   ]
  },
  {
   "cell_type": "code",
   "execution_count": 9,
   "metadata": {},
   "outputs": [],
   "source": [
    "CSS3_HEX_TO_NAMES = restricted_css3"
   ]
  },
  {
   "cell_type": "code",
   "execution_count": 10,
   "metadata": {},
   "outputs": [],
   "source": [
    "image_folder = 'static/dataset/coco_val_set/'"
   ]
  },
  {
   "cell_type": "code",
   "execution_count": 11,
   "metadata": {},
   "outputs": [],
   "source": [
    "image_files = os.listdir(image_folder)\n",
    "image_paths = [os.path.join(image_folder, i) for i in image_files]"
   ]
  },
  {
   "cell_type": "code",
   "execution_count": 12,
   "metadata": {},
   "outputs": [],
   "source": [
    "# CSS3_HEX_TO_NAMES"
   ]
  },
  {
   "cell_type": "code",
   "execution_count": 13,
   "metadata": {},
   "outputs": [],
   "source": [
    "experiment_color_list = ['red','pink','orange','yellow','purple','green','blue','brown','gray','black','white']"
   ]
  },
  {
   "cell_type": "code",
   "execution_count": 14,
   "metadata": {},
   "outputs": [],
   "source": [
    "import numpy as np\n",
    "from math import sqrt"
   ]
  },
  {
   "cell_type": "code",
   "execution_count": 15,
   "metadata": {},
   "outputs": [],
   "source": [
    "def get_similarity(c1, c2):\n",
    "    \"\"\"Computes the pearson correlation coefficient for two colors. The result\n",
    "    will be between 1.0 (very similar) and -1.0 (no similarity).\"\"\"\n",
    "#     c1 = color_to_rgb(color1)\n",
    "#     c2 = color_to_rgb(color2)\n",
    "    s1 = sum(c1)\n",
    "    s2 = sum(c2)\n",
    "    sp1 = sum(map(lambda c: pow(c, 2), c1))\n",
    "    sp2 = sum(map(lambda c: pow(c, 2), c2))\n",
    "    sp = sum(map(lambda x: x[0] * x[1], zip(c1, c2)))\n",
    "\n",
    "    return (sp - (s1 * s2 / 3.0)) / sqrt((sp1 - pow(s1, 2) / 3.0) * (sp2 - pow(s2, 2) / 3.0))"
   ]
  },
  {
   "cell_type": "code",
   "execution_count": 16,
   "metadata": {},
   "outputs": [],
   "source": [
    "from scipy.stats.stats import pearsonr"
   ]
  },
  {
   "cell_type": "code",
   "execution_count": 17,
   "metadata": {},
   "outputs": [],
   "source": [
    "def convert_using_pearson(rgb_tuple):\n",
    "    best_similarity = 0\n",
    "    best_color = 'NA'\n",
    "    for color in CSS3_HEX_TO_NAMES.keys():\n",
    "        color_rgb = hex_to_rgb(color)\n",
    "        similarity_score = pearsonr(color_rgb,rgb_tuple)[0]\n",
    "        \n",
    "        if similarity_score > best_similarity:\n",
    "            best_similarity = similarity_score\n",
    "            best_color = CSS3_HEX_TO_NAMES[color]\n",
    "            best_rgb = color_rgb\n",
    "    return best_color, [best_rgb[0],best_rgb[1],best_rgb[2]]\n",
    "\n",
    "def convert_rgb_to_names(rgb_tuple):\n",
    "    \n",
    "    # a dictionary of all the hex and their respective names in css3\n",
    "    css3_db = CSS3_HEX_TO_NAMES\n",
    "    names = []\n",
    "    rgb_values = []\n",
    "    for color_hex, color_name in css3_db.items():\n",
    "        names.append(color_name)\n",
    "        rgb_values.append(hex_to_rgb(color_hex))\n",
    "    \n",
    "    kdt_db = KDTree(rgb_values)\n",
    "    distance, index = kdt_db.query(rgb_tuple)\n",
    "    return names[index], [rgb_values[index][0],rgb_values[index][1],rgb_values[index][2]]\n",
    "\n",
    "\n",
    "def display_matched_colors(original_rgb,matched_rgb):\n",
    "    f, axarr = plt.subplots(1,2)\n",
    "    axarr[0].imshow([[original_rgb]])\n",
    "    axarr[1].imshow([[matched_rgb]])\n",
    "    plt.show()"
   ]
  },
  {
   "cell_type": "code",
   "execution_count": 18,
   "metadata": {},
   "outputs": [],
   "source": [
    "inverted_css3 = {}\n",
    "for key,value in CSS3_HEX_TO_NAMES.items():\n",
    "    inverted_css3[value] = key"
   ]
  },
  {
   "cell_type": "code",
   "execution_count": 19,
   "metadata": {},
   "outputs": [],
   "source": [
    "histogram_dominant_color = {}"
   ]
  },
  {
   "cell_type": "code",
   "execution_count": 20,
   "metadata": {},
   "outputs": [],
   "source": [
    "from tqdm import tqdm"
   ]
  },
  {
   "cell_type": "code",
   "execution_count": 21,
   "metadata": {},
   "outputs": [],
   "source": [
    "# dominant_color"
   ]
  },
  {
   "cell_type": "code",
   "execution_count": 22,
   "metadata": {},
   "outputs": [
    {
     "name": "stderr",
     "output_type": "stream",
     "text": [
      "  0%|          | 0/5000 [00:00<?, ?it/s]\n"
     ]
    }
   ],
   "source": [
    "for impath in tqdm(image_paths):\n",
    "    color_thief = ColorThief(impath)\n",
    "    dominant_color = color_thief.get_color(quality=1)\n",
    "    named_color,_ = convert_rgb_to_names(dominant_color)\n",
    "    easy_color_name = color_to_name[inverted_css3[named_color]]\n",
    "    histogram_dominant_color[impath] = easy_color_name\n",
    "    break"
   ]
  },
  {
   "cell_type": "code",
   "execution_count": 23,
   "metadata": {},
   "outputs": [
    {
     "data": {
      "text/plain": [
       "(162, 134, 78)"
      ]
     },
     "execution_count": 23,
     "metadata": {},
     "output_type": "execute_result"
    }
   ],
   "source": [
    "named_color,_ = convert_rgb_to_names(dominant_color)\n",
    "easy_color_name = color_to_name[inverted_css3[named_color]]"
   ]
  },
  {
   "cell_type": "code",
   "execution_count": 24,
   "metadata": {},
   "outputs": [],
   "source": [
    "# with open('histogram_dominant_color.p','wb') as F:\n",
    "#     pickle.dump(histogram_dominant_color,F)"
   ]
  }
 ],
 "metadata": {
  "kernelspec": {
   "display_name": "domain_adaptation",
   "language": "python",
   "name": "domain_adaptation"
  },
  "language_info": {
   "codemirror_mode": {
    "name": "ipython",
    "version": 3
   },
   "file_extension": ".py",
   "mimetype": "text/x-python",
   "name": "python",
   "nbconvert_exporter": "python",
   "pygments_lexer": "ipython3",
   "version": "3.8.11"
  }
 },
 "nbformat": 4,
 "nbformat_minor": 4
}
