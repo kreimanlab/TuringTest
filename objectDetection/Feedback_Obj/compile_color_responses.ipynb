{
 "cells": [
  {
   "cell_type": "code",
   "execution_count": 1,
   "metadata": {},
   "outputs": [],
   "source": [
    "import pickle\n",
    "import os\n",
    "import json\n",
    "import colorthief\n",
    "from tqdm import tqdm"
   ]
  },
  {
   "cell_type": "code",
   "execution_count": 2,
   "metadata": {},
   "outputs": [],
   "source": [
    "from colorthief import ColorThief"
   ]
  },
  {
   "cell_type": "code",
   "execution_count": 3,
   "metadata": {},
   "outputs": [],
   "source": [
    "import webcolors"
   ]
  },
  {
   "cell_type": "code",
   "execution_count": 4,
   "metadata": {},
   "outputs": [],
   "source": [
    "from scipy.spatial import KDTree"
   ]
  },
  {
   "cell_type": "code",
   "execution_count": 5,
   "metadata": {},
   "outputs": [],
   "source": [
    "from webcolors import (\n",
    "    CSS3_HEX_TO_NAMES,\n",
    "#     css3_hex_to_names,\n",
    "    hex_to_rgb,\n",
    ")"
   ]
  },
  {
   "cell_type": "code",
   "execution_count": 6,
   "metadata": {},
   "outputs": [],
   "source": [
    "color_compiled = {}"
   ]
  },
  {
   "cell_type": "code",
   "execution_count": 7,
   "metadata": {},
   "outputs": [],
   "source": [
    "with open('css_color_to_name.p','rb') as F:\n",
    "    color_to_name = pickle.load(F)"
   ]
  },
  {
   "cell_type": "code",
   "execution_count": 8,
   "metadata": {},
   "outputs": [],
   "source": [
    "inverted_css3 = {}\n",
    "for key,value in CSS3_HEX_TO_NAMES.items():\n",
    "    inverted_css3[value] = key"
   ]
  },
  {
   "cell_type": "code",
   "execution_count": 9,
   "metadata": {},
   "outputs": [],
   "source": [
    "def convert_rgb_to_names(rgb_tuple):\n",
    "    \n",
    "    # a dictionary of all the hex and their respective names in css3\n",
    "    css3_db = CSS3_HEX_TO_NAMES\n",
    "    names = []\n",
    "    rgb_values = []\n",
    "    for color_hex, color_name in css3_db.items():\n",
    "        names.append(color_name)\n",
    "        rgb_values.append(hex_to_rgb(color_hex))\n",
    "    \n",
    "    kdt_db = KDTree(rgb_values)\n",
    "    distance, index = kdt_db.query(rgb_tuple)\n",
    "    return names[index], [rgb_values[index][0],rgb_values[index][1],rgb_values[index][2]]"
   ]
  },
  {
   "cell_type": "markdown",
   "metadata": {},
   "source": [
    "# Azure"
   ]
  },
  {
   "cell_type": "code",
   "execution_count": 10,
   "metadata": {},
   "outputs": [],
   "source": [
    "with open('azure_detected_colors_full.p','rb') as F:\n",
    "    azure_detected_colors = pickle.load(F)"
   ]
  },
  {
   "cell_type": "code",
   "execution_count": 11,
   "metadata": {},
   "outputs": [],
   "source": [
    "for im_path, color_info in azure_detected_colors.items():\n",
    "    im_name = im_path.split('/')[-1]\n",
    "    if len(color_info) > 0:\n",
    "        if color_info[0].lower() in set(color_to_name.values()):\n",
    "            chosen_color = color_info[0]\n",
    "        elif color_info[0] == 'Grey':\n",
    "            chosen_color = 'gray'\n",
    "        elif color_info[0] == 'Teal':\n",
    "            chosen_color = 'green'\n",
    "        else:\n",
    "            print(color_info[0])\n",
    "    \n",
    "    if not im_name in color_compiled.keys():\n",
    "        color_compiled[im_name] = {}\n",
    "    \n",
    "    color_compiled[im_name]['azure'] = chosen_color.lower()"
   ]
  },
  {
   "cell_type": "markdown",
   "metadata": {},
   "source": [
    "# Google"
   ]
  },
  {
   "cell_type": "code",
   "execution_count": 12,
   "metadata": {},
   "outputs": [],
   "source": [
    "from google.cloud import vision_v1"
   ]
  },
  {
   "cell_type": "code",
   "execution_count": 13,
   "metadata": {},
   "outputs": [
    {
     "name": "stderr",
     "output_type": "stream",
     "text": [
      "100%|██████████| 5000/5000 [00:09<00:00, 513.91it/s]\n"
     ]
    }
   ],
   "source": [
    "for im in tqdm(os.listdir('static/dataset/api_outputs/')):\n",
    "    im_info_path = os.path.join('static/dataset/api_outputs/', im)\n",
    "    with open(im_info_path,'rb') as F:\n",
    "        im_info = pickle.load(F)\n",
    "    best_score = 0\n",
    "    for color in im_info[1]:\n",
    "        if color.score > best_score:\n",
    "            best_score = color.score\n",
    "            best_color = color.color\n",
    "    \n",
    "    rgb_tuple = int(best_color.red), int(best_color.green), int(best_color.blue)\n",
    "    named_color,_ = convert_rgb_to_names(rgb_tuple)\n",
    "    easy_color_name = color_to_name[inverted_css3[named_color]]\n",
    "    \n",
    "    im_name = im.replace('p','jpg')\n",
    "    \n",
    "    if not im_name in color_compiled.keys():\n",
    "        color_compiled[im_name] = {}\n",
    "    \n",
    "    color_compiled[im_name]['google'] = easy_color_name"
   ]
  },
  {
   "cell_type": "markdown",
   "metadata": {},
   "source": [
    "# Histogram Method"
   ]
  },
  {
   "cell_type": "code",
   "execution_count": 14,
   "metadata": {},
   "outputs": [],
   "source": [
    "with open('histogram_dominant_color.p','rb') as F:\n",
    "    histogram_dominant_color = pickle.load(F)"
   ]
  },
  {
   "cell_type": "code",
   "execution_count": 15,
   "metadata": {},
   "outputs": [],
   "source": [
    "for im_path, color_name in histogram_dominant_color.items():\n",
    "    im_name = im_path.split('/')[-1]\n",
    "    color_compiled[im_name]['histogram'] = color_name"
   ]
  },
  {
   "cell_type": "code",
   "execution_count": 16,
   "metadata": {},
   "outputs": [],
   "source": [
    "# color_compiled"
   ]
  },
  {
   "cell_type": "markdown",
   "metadata": {},
   "source": [
    "# Humans"
   ]
  },
  {
   "cell_type": "code",
   "execution_count": 17,
   "metadata": {},
   "outputs": [],
   "source": [
    "import pandas"
   ]
  },
  {
   "cell_type": "code",
   "execution_count": 18,
   "metadata": {},
   "outputs": [],
   "source": [
    "df = pandas.read_csv('../turing_test/out.csv')"
   ]
  },
  {
   "cell_type": "code",
   "execution_count": 19,
   "metadata": {},
   "outputs": [],
   "source": [
    "per_image_colors = {}"
   ]
  },
  {
   "cell_type": "code",
   "execution_count": 24,
   "metadata": {},
   "outputs": [],
   "source": [
    "for row in df.iterrows():\n",
    "    row_datastring = row[1]['datastring']\n",
    "    if isinstance(row_datastring,str):\n",
    "        row_data = json.loads(row_datastring)['data']\n",
    "        for i in range(3,28):\n",
    "            person_data = row_data[i]['trialdata']\n",
    "            image = person_data['imageID'].split('/')[-1]\n",
    "            if isinstance(person_data['response4'],list):\n",
    "                chosen_color = person_data['response4'][0]\n",
    "            else:\n",
    "                chosen_color = person_data['response4']\n",
    "            color_compiled[image]['humans'] = chosen_color"
   ]
  },
  {
   "cell_type": "code",
   "execution_count": 23,
   "metadata": {},
   "outputs": [
    {
     "data": {
      "text/plain": [
       "False"
      ]
     },
     "execution_count": 23,
     "metadata": {},
     "output_type": "execute_result"
    }
   ],
   "source": []
  },
  {
   "cell_type": "code",
   "execution_count": 47,
   "metadata": {},
   "outputs": [],
   "source": [
    "color_compiled_with_humans = {}"
   ]
  },
  {
   "cell_type": "code",
   "execution_count": 48,
   "metadata": {},
   "outputs": [],
   "source": [
    "for key in color_compiled.keys():\n",
    "    if len(color_compiled[key].keys()) == 4:\n",
    "        color_compiled_with_humans[key] = color_compiled[key]"
   ]
  },
  {
   "cell_type": "markdown",
   "metadata": {},
   "source": [
    "# Write to html files"
   ]
  },
  {
   "cell_type": "code",
   "execution_count": 53,
   "metadata": {},
   "outputs": [],
   "source": [
    "import pickle\n",
    "from tqdm import tqdm"
   ]
  },
  {
   "cell_type": "code",
   "execution_count": 63,
   "metadata": {},
   "outputs": [],
   "source": [
    "string_1 = \"<center> <h4>Question: What is the dominant color in this image? <br> Speaker Response: Bello</h4> </center>\""
   ]
  },
  {
   "cell_type": "code",
   "execution_count": 64,
   "metadata": {},
   "outputs": [],
   "source": [
    "agent_to_code = {}\n",
    "agent_to_code['humans'] = 'a'\n",
    "agent_to_code['azure'] = 'b'\n",
    "agent_to_code['histogram'] = 'c'\n",
    "agent_to_code['google'] = 'd'"
   ]
  },
  {
   "cell_type": "code",
   "execution_count": 65,
   "metadata": {},
   "outputs": [],
   "source": [
    "os.makedirs('static/responses_color',exist_ok=True)"
   ]
  },
  {
   "cell_type": "code",
   "execution_count": 66,
   "metadata": {},
   "outputs": [
    {
     "name": "stderr",
     "output_type": "stream",
     "text": [
      "100%|██████████| 873/873 [00:06<00:00, 137.68it/s]\n"
     ]
    }
   ],
   "source": [
    "for im_name in tqdm(color_compiled_with_humans.keys()):\n",
    "    for agent in color_compiled_with_humans[im_name].keys():\n",
    "        agent_code = agent_to_code[agent]\n",
    "        response = color_compiled_with_humans[im_name][agent]\n",
    "        file_name = \"static/responses_color/%s_%s_0.html\"%(im_name.split('.jpg')[0],agent_code)\n",
    "        string_new = string_1.replace('Bello',response.lower())\n",
    "        with open(file_name,'w') as F:\n",
    "            print(string_new, file = F)"
   ]
  },
  {
   "cell_type": "code",
   "execution_count": 67,
   "metadata": {},
   "outputs": [],
   "source": [
    "all_htmls = os.listdir('static/responses_color/')"
   ]
  },
  {
   "cell_type": "code",
   "execution_count": 73,
   "metadata": {},
   "outputs": [],
   "source": [
    "image_nums = [i.split('.')[0] for i in list(color_compiled_with_humans.keys())]"
   ]
  },
  {
   "cell_type": "code",
   "execution_count": 74,
   "metadata": {},
   "outputs": [
    {
     "name": "stdout",
     "output_type": "stream",
     "text": [
      "var image_nums = ['1','10','100','1000','1001','1003','1004','1006','1007','1008','1010','1011','1012','1014','1015','1017','1019','102','1020','1022','1024','1025','1026','1027','1028','103','1030','1031','1032','1034','1036','1039','1040','1042','1043','1044','1045','1047','1048','1049','1051','1052','1053','1054','1055','1056','1057','1059','106','1060','1062','1063','1064','1065','1066','1067','1068','1069','107','1070','1072','1073','1074','1075','1076','1077','1078','1079','108','1080','1082','1083','1085','1087','1088','1089','109','1090','1091','1092','1093','1095','1096','1098','1100','1102','1103','1105','1108','1109','111','1111','1112','1113','1114','1115','1118','1119','112','1120','1121','1122','1124','1125','1127','1128','1129','113','1130','1131','1132','1133','1134','1135','1137','1139','114','1140','1141','1142','1145','1146','1148','1149','1150','1151','1152','1153','1154','1155','1156','1157','116','1160','1161','1162','1163','1166','1167','1168','117','1171','1172','1173','1174','1175','1176','1177','1178','118','1181','1182','1184','1186','1188','1189','119','1190','1191','1192','1193','1194','1195','1197','1198','1199','12','120','122','125','126','127','128','129','13','130','132','133','134','135','136','137','138','139','14','140','141','142','143','144','146','148','15','150','151','152','153','156','157','158','159','16','160','162','166','167','171','172','173','174','175','177','179','18','182','185','186','187','188','19','192','196','197','2','20','201','202','204','205','208','209','21','210','211','212','213','214','215','217','218','219','221','222','223','224','225','226','227','228','229','23','230','231','232','235','236','238','24','240','242','243','244','245','247','248','250','251','253','254','255','256','257','261','263','264','265','267','268','269','271','273','276','279','28','283','284','285','286','288','289','29','290','292','294','295','296','297','298','299','3','30','300','301','302','303','304','305','306','307','308','310','311','312','313','314','315','316','317','318','321','322','323','324','325','326','327','328','329','330','332','333','334','335','337','339','34','342','343','345','346','347','351','352','353','354','355','356','357','358','36','360','361','363','364','365','367','368','369','370','371','373','374','375','376','378','38','380','381','382','383','386','387','389','390','391','392','393','394','395','396','399','4','40','400','401','402','403','404','405','406','407','408','409','410','411','412','413','414','415','416','418','419','42','420','421','422','424','426','427','428','429','43','430','431','432','433','435','436','437','438','439','44','440','441','442','444','445','446','448','45','450','451','452','455','458','46','461','463','464','465','466','467','470','472','473','474','475','476','478','481','482','483','485','489','49','490','491','493','494','495','496','497','498','499','5','50','500','501','502','503','505','506','507','508','51','510','512','513','514','515','516','517','519','520','521','522','523','524','525','526','528','53','530','531','532','533','534','536','538','539','54','540','541','542','543','544','545','546','547','548','549','550','552','553','554','555','557','558','56','560','561','562','563','564','565','568','569','570','571','572','574','575','576','577','58','582','583','584','585','587','588','589','590','591','594','595','596','597','598','599','6','60','601','604','605','606','607','608','610','611','612','613','614','615','617','618','619','62','620','621','622','623','624','625','626','627','629','631','632','633','634','636','641','642','646','647','648','65','651','652','653','654','655','656','657','66','662','663','664','665','666','667','668','669','67','671','672','673','674','675','678','682','683','684','685','687','689','690','691','692','693','694','696','697','698','699','70','701','702','703','704','705','707','708','71','711','712','713','714','716','717','718','72','720','721','722','724','725','726','727','728','729','73','730','731','734','735','736','737','738','74','741','742','744','749','750','751','754','755','756','757','758','759','76','761','762','763','764','766','768','769','77','770','771','772','773','774','775','776','777','779','78','780','782','784','786','787','788','789','790','791','792','793','794','795','796','797','798','799','8','80','800','801','805','806','809','81','811','812','815','816','817','818','819','82','820','824','825','826','827','829','83','830','831','832','833','835','836','837','838','839','84','840','841','842','843','844','845','846','847','848','849','85','850','851','852','854','855','856','858','859','86','860','864','865','867','868','87','870','873','874','875','876','877','878','879','88','880','882','883','885','887','888','889','89','891','892','894','895','896','897','898','899','90','900','901','902','905','908','91','910','911','912','913','914','915','916','917','918','919','920','921','922','923','924','925','926','927','929','93','930','931','934','938','939','94','941','942','943','944','945','946','947','948','949','95','950','951','952','954','957','958','96','960','962','965','966','967','968','969','97','970','971','973','974','975','978','979','98','983','984','985','986','987','989','990','991','993','994','996','997','998','999']\n"
     ]
    }
   ],
   "source": [
    "big_str = \"','\".join(image_nums)\n",
    "print(\"var image_nums = ['%s']\"%big_str)"
   ]
  }
 ],
 "metadata": {
  "kernelspec": {
   "display_name": "Python 3",
   "language": "python",
   "name": "python3"
  },
  "language_info": {
   "codemirror_mode": {
    "name": "ipython",
    "version": 3
   },
   "file_extension": ".py",
   "mimetype": "text/x-python",
   "name": "python",
   "nbconvert_exporter": "python",
   "pygments_lexer": "ipython3",
   "version": "3.8.1"
  }
 },
 "nbformat": 4,
 "nbformat_minor": 4
}
