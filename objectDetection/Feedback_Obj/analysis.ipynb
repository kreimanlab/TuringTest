{
 "cells": [
  {
   "cell_type": "code",
   "execution_count": 1,
   "metadata": {},
   "outputs": [],
   "source": [
    "import warnings\n",
    "warnings.filterwarnings('ignore')"
   ]
  },
  {
   "cell_type": "code",
   "execution_count": 8,
   "metadata": {},
   "outputs": [],
   "source": [
    "import pandas\n",
    "import math\n",
    "import json\n",
    "import numpy as np\n",
    "import sklearn\n",
    "from sklearn.metrics import confusion_matrix"
   ]
  },
  {
   "cell_type": "code",
   "execution_count": 9,
   "metadata": {},
   "outputs": [],
   "source": [
    "import seaborn as sn\n",
    "import pandas as pd\n",
    "import matplotlib.pyplot as plt\n",
    "\n"
   ]
  },
  {
   "cell_type": "code",
   "execution_count": 10,
   "metadata": {},
   "outputs": [],
   "source": [
    "contents = pandas.read_csv('out_final.csv')"
   ]
  },
  {
   "cell_type": "code",
   "execution_count": 11,
   "metadata": {},
   "outputs": [],
   "source": [
    "import matplotlib.pyplot as plt"
   ]
  },
  {
   "cell_type": "code",
   "execution_count": 12,
   "metadata": {},
   "outputs": [],
   "source": [
    "def add_to_dict(dic, val):\n",
    "    if val not in dic.keys():\n",
    "        dic[val] = 1\n",
    "    else:\n",
    "        dic[val] += 1"
   ]
  },
  {
   "cell_type": "code",
   "execution_count": 13,
   "metadata": {},
   "outputs": [],
   "source": [
    "all_ages = {}\n",
    "all_gender = {}\n",
    "all_educations = {}\n",
    "all_workerid = []\n",
    "all_rows = 0\n",
    "for row in contents.iterrows():\n",
    "    row_data = row[1]['datastring']\n",
    "    if isinstance(row_data,str):\n",
    "        all_workerid.append(row[1].workerid)\n",
    "        all_rows+=1\n",
    "        json_data = json.loads(row_data)\n",
    "        add_to_dict(all_ages, json_data['questiondata']['age'])\n",
    "        add_to_dict(all_gender,json_data['questiondata']['gender'])\n",
    "        add_to_dict(all_educations,json_data['questiondata']['education'])"
   ]
  },
  {
   "cell_type": "code",
   "execution_count": 14,
   "metadata": {},
   "outputs": [
    {
     "data": {
      "text/plain": [
       "79"
      ]
     },
     "execution_count": 14,
     "metadata": {},
     "output_type": "execute_result"
    }
   ],
   "source": [
    "len(all_workerid)"
   ]
  },
  {
   "cell_type": "code",
   "execution_count": 15,
   "metadata": {},
   "outputs": [
    {
     "data": {
      "text/plain": [
       "79"
      ]
     },
     "execution_count": 15,
     "metadata": {},
     "output_type": "execute_result"
    }
   ],
   "source": [
    "len(set(all_workerid))"
   ]
  },
  {
   "cell_type": "code",
   "execution_count": 16,
   "metadata": {},
   "outputs": [
    {
     "data": {
      "text/plain": [
       "{'26-30': 8, '31-35': 18, '36-40': 11, '41-45': 17, '45-50': 25}"
      ]
     },
     "execution_count": 16,
     "metadata": {},
     "output_type": "execute_result"
    }
   ],
   "source": [
    "all_ages"
   ]
  },
  {
   "cell_type": "code",
   "execution_count": 17,
   "metadata": {},
   "outputs": [],
   "source": [
    "all_ages_ = {}\n",
    "all_ages_['35-45'] = all_ages['36-40'] + all_ages['41-45']\n",
    "all_ages_['<35'] = all_ages['26-30'] + all_ages['31-35']\n",
    "all_ages_['>45'] = all_ages['45-50']"
   ]
  },
  {
   "cell_type": "code",
   "execution_count": 18,
   "metadata": {},
   "outputs": [
    {
     "data": {
      "text/plain": [
       "{'35-45': 28, '<35': 26, '>45': 25}"
      ]
     },
     "execution_count": 18,
     "metadata": {},
     "output_type": "execute_result"
    }
   ],
   "source": [
    "all_ages_"
   ]
  },
  {
   "cell_type": "code",
   "execution_count": 19,
   "metadata": {},
   "outputs": [
    {
     "data": {
      "image/png": "[encoded data removed]",
      "text/plain": [
       "<Figure size 432x288 with 1 Axes>"
      ]
     },
     "metadata": {},
     "output_type": "display_data"
    }
   ],
   "source": [
    "plt.pie(all_ages_.values(), labels = all_ages_.keys())\n",
    "plt.title('Age Distribution')\n",
    "plt.show() "
   ]
  },
  {
   "cell_type": "code",
   "execution_count": 20,
   "metadata": {},
   "outputs": [
    {
     "data": {
      "image/png": "[encoded data removed]",
      "text/plain": [
       "<Figure size 432x288 with 1 Axes>"
      ]
     },
     "metadata": {},
     "output_type": "display_data"
    }
   ],
   "source": [
    "plt.pie(all_gender.values(), labels = all_gender.keys())\n",
    "plt.title('Gender Distribution')\n",
    "plt.show() "
   ]
  },
  {
   "cell_type": "code",
   "execution_count": 21,
   "metadata": {},
   "outputs": [
    {
     "data": {
      "text/plain": [
       "{'female': 32, 'male': 47}"
      ]
     },
     "execution_count": 21,
     "metadata": {},
     "output_type": "execute_result"
    }
   ],
   "source": [
    "all_gender"
   ]
  },
  {
   "cell_type": "code",
   "execution_count": 22,
   "metadata": {},
   "outputs": [],
   "source": [
    "all_educations_ = {}\n",
    "all_educations_['Below Bachelors'] = all_educations['high school']\n",
    "all_educations_['Bachelors'] = all_educations['bachelor']\n",
    "all_educations_['Above Bachelors'] = all_educations['master'] + all_educations['pg']"
   ]
  },
  {
   "cell_type": "code",
   "execution_count": 23,
   "metadata": {},
   "outputs": [
    {
     "data": {
      "image/png": "[encoded data removed]",
      "text/plain": [
       "<Figure size 432x288 with 1 Axes>"
      ]
     },
     "metadata": {},
     "output_type": "display_data"
    }
   ],
   "source": [
    "plt.pie(all_educations_.values(), labels = all_educations_.keys())\n",
    "plt.title('Education Distribution')\n",
    "plt.show() "
   ]
  },
  {
   "cell_type": "code",
   "execution_count": 24,
   "metadata": {},
   "outputs": [
    {
     "data": {
      "text/plain": [
       "{'Above Bachelors': 7, 'Bachelors': 40, 'Below Bachelors': 32}"
      ]
     },
     "execution_count": 24,
     "metadata": {},
     "output_type": "execute_result"
    }
   ],
   "source": [
    "all_educations_"
   ]
  },
  {
   "cell_type": "code",
   "execution_count": 19,
   "metadata": {},
   "outputs": [],
   "source": [
    "page_to_class = {}\n",
    "page_to_class['a'] = 'H'\n",
    "page_to_class['b'] = 'AI'\n",
    "page_to_class['c'] = 'AI'\n",
    "page_to_class['d'] = 'AI'\n",
    "page_to_class['e'] = 'AI'\n",
    "\n",
    "page_to_algo = {}\n",
    "page_to_algo['a'] = 'humans'\n",
    "page_to_algo['b'] = 'azure'\n",
    "page_to_algo['c'] = 'detectron'\n",
    "page_to_algo['d'] = 'google'\n",
    "page_to_algo['e'] = 'rekognition'"
   ]
  },
  {
   "cell_type": "code",
   "execution_count": 20,
   "metadata": {},
   "outputs": [
    {
     "data": {
      "text/plain": [
       "{'female': 32, 'male': 47}"
      ]
     },
     "execution_count": 20,
     "metadata": {},
     "output_type": "execute_result"
    }
   ],
   "source": [
    "all_gender"
   ]
  },
  {
   "cell_type": "code",
   "execution_count": 21,
   "metadata": {},
   "outputs": [
    {
     "data": {
      "text/plain": [
       "dict_keys(['bachelor', 'high school', 'master', 'pg'])"
      ]
     },
     "execution_count": 21,
     "metadata": {},
     "output_type": "execute_result"
    }
   ],
   "source": [
    "all_educations.keys()"
   ]
  },
  {
   "cell_type": "code",
   "execution_count": 22,
   "metadata": {},
   "outputs": [],
   "source": [
    "def parse_all_data(contents,allowed_algos = ['humans', 'azure', 'detectron', 'google', 'rekognition'], allowed_ages = all_ages.keys(), allowed_genders = all_gender.keys(), allowed_educations = all_educations.keys()):\n",
    "    person_to_personal_df = {}   \n",
    "    for row in contents.iterrows():\n",
    "        row_data = row[1]['datastring']\n",
    "        if isinstance(row_data,str):\n",
    "            json_data = json.loads(row_data)\n",
    "            person_id = json_data['workerId']\n",
    "            person_questionnaire = json_data['questiondata']\n",
    "            person_age = person_questionnaire['age']\n",
    "            person_gender = person_questionnaire['gender']\n",
    "            person_education = person_questionnaire['education']\n",
    "            person_df = pandas.DataFrame(columns = ['image','topic_match','response_class','actual_class','class_match','response_gender'])\n",
    "            for i in range(1,26):\n",
    "                ques_output = {}\n",
    "                ques_response = json_data['data'][i]['trialdata']\n",
    "                image = ques_response['imageID']\n",
    "                topic_match = int(ques_response['topic']) == int(ques_response['oneWord_curr']) + 1\n",
    "                \n",
    "                response_class = ques_response['Aclass']\n",
    "                actual_class = page_to_class[ques_response['page_name'].split('_')[1]]\n",
    "                class_match = response_class == actual_class\n",
    "\n",
    "                response_gender = ques_response['Agender']\n",
    "                algo = page_to_algo[ques_response['page_name'].split('_')[1]]\n",
    "                page_name = ques_response['page_name']\n",
    "                if algo in allowed_algos and person_age in allowed_ages and person_gender in allowed_genders and person_education in allowed_educations:\n",
    "                    person_df = person_df.append({'image' : image, 'topic_match' : topic_match, 'response_class' : response_class,'actual_class':actual_class, 'class_match':class_match, 'response_gender': response_gender, 'page_name': page_name},ignore_index = True)\n",
    "            if len(person_df) > 0:\n",
    "                person_to_personal_df[person_id] = person_df\n",
    "    return person_to_personal_df"
   ]
  },
  {
   "cell_type": "code",
   "execution_count": 23,
   "metadata": {},
   "outputs": [],
   "source": [
    "def run_analysis(person_to_personal_df, verbose = False):\n",
    "    prediction_accs = []\n",
    "    topic_accs = []\n",
    "    all_images = []\n",
    "    all_actuals = []\n",
    "    all_response_classes = []\n",
    "    all_genders = []\n",
    "    \n",
    "    result_mean = []\n",
    "    result_std = [] #std for individual categories: e.g. humans alone, AI alone, each model alone\n",
    "    top_std = [] \n",
    "\n",
    "    for person_id in person_to_personal_df.keys():\n",
    "        person_df = person_to_personal_df[person_id]\n",
    "        all_images.extend(list(person_df['image']))\n",
    "        all_actuals.extend(list(person_df['actual_class']))\n",
    "        all_response_classes.extend(list(person_df['response_class']))\n",
    "        all_genders.extend(list(person_df['response_gender']))\n",
    "\n",
    "        topic_accuracy = np.sum(person_df['topic_match'])/len(person_df['topic_match'])\n",
    "        prediction_accuracy = np.sum(person_df['class_match'])/len(person_df['class_match'])\n",
    "        topic_accs.append(topic_accuracy)\n",
    "        prediction_accs.append(prediction_accuracy)\n",
    "    \n",
    "    if verbose:\n",
    "        print('Mean Topic Prediction:%s'%np.mean(topic_accs))\n",
    "        print('Mean AI/H Prediction:%s'%np.mean(prediction_accs))\n",
    "        print('Female prediction rate:%s'%(all_genders.count('F')/len(all_genders)))\n",
    "    \n",
    "    h_h = 0\n",
    "    h_ai = 0\n",
    "    ai_h = 0\n",
    "    ai_ai = 0\n",
    "    \n",
    "    result = {'human':0, 'countH':0, 'list_human':[], 'machine':0, 'countM': 0, 'list_machine':[]} #machine is overall AI; countM is the total num of AI ground truth\n",
    "    \n",
    "    all_actuals_gts = [all_actuals, all_response_classes,all_images]\n",
    "    for i in range(len(all_actuals)):\n",
    "        if all_actuals[i] == 'H':\n",
    "            result['countH'] += 1\n",
    "            if all_response_classes[i] == 'H':\n",
    "                h_h += 1\n",
    "                result['human'] += 1\n",
    "                result['list_human'].append(1)\n",
    "            if all_response_classes[i] == 'AI':\n",
    "                h_ai += 1\n",
    "                result['list_human'].append(0)\n",
    "        if all_actuals[i] == 'AI':\n",
    "            result['countM'] += 1\n",
    "            if all_response_classes[i] == 'H':\n",
    "                ai_h += 1\n",
    "                result['list_machine'].append(0)\n",
    "            if all_response_classes[i] == 'AI':\n",
    "                ai_ai += 1\n",
    "                result['machine'] += 1\n",
    "                result['list_machine'].append(1)\n",
    "                \n",
    "    confusion_df = pandas.DataFrame([[h_h/(h_h+h_ai), h_ai/(h_h+h_ai)], [ai_h/(ai_h+ai_ai), ai_ai/(ai_h+ai_ai)]], columns=['H','AI'], index=['H', 'AI'])\n",
    "    if verbose:\n",
    "        print(confusion_df)\n",
    "    \n",
    "    result_mean.append(sum(result['list_human'])/len(result['list_human']))\n",
    "    result_std.append(np.std(np.array(result['list_human']), axis=0))\n",
    "    result_mean.append(sum(result['list_human'])/len(result['list_human']))\n",
    "    result_std.append(np.std(np.array(result['list_human']), axis=0))\n",
    "    top_std.append(boostrap(result['list_human'], result['list_machine']))\n",
    "    return np.mean(prediction_accs),confusion_df, all_actuals_gts, top_std "
   ]
  },
  {
   "cell_type": "code",
   "execution_count": 24,
   "metadata": {},
   "outputs": [],
   "source": [
    "def boostrap(data1, data2):\n",
    "    import random\n",
    "    import math\n",
    "    store = []\n",
    "    sample_mean = []\n",
    "    if len(data1) < len(data2):\n",
    "        SampleTimes = math.ceil(len(data1)/2)\n",
    "        BootstrapTimes = len(data1)\n",
    "    else:\n",
    "        SampleTimes = math.ceil(len(data2)/2)\n",
    "        BootstrapTimes = len(data2)\n",
    "        \n",
    "    #print(BootstrapTimes)        \n",
    "    for i in range(BootstrapTimes):\n",
    "        y1 = random.sample(data1, SampleTimes)\n",
    "        #print(y1)\n",
    "        y2 = random.sample(data2, SampleTimes)\n",
    "        #print(y2)\n",
    "        y_comb = y1+y2\n",
    "        #print(y_comb)\n",
    "        sample_mean.append(np.mean(np.array(y_comb), axis=0))\n",
    "    \n",
    "    stdval = np.std(np.array(sample_mean), axis=0)\n",
    "    return stdval"
   ]
  },
  {
   "cell_type": "markdown",
   "metadata": {},
   "source": [
    "# Humans vs All"
   ]
  },
  {
   "cell_type": "code",
   "execution_count": 25,
   "metadata": {},
   "outputs": [],
   "source": [
    "means = {}\n",
    "dfs = {}\n",
    "results = {}\n",
    "stds = {}\n",
    "\n",
    "means['all'] = {}\n",
    "means['azure'] = {}\n",
    "means['detectron'] = {}\n",
    "means['google'] = {}\n",
    "means['rekognition'] = {}\n",
    "\n",
    "dfs['all'] = {}\n",
    "dfs['azure'] = {}\n",
    "dfs['detectron'] = {}\n",
    "dfs['google'] = {}\n",
    "dfs['rekognition'] = {}\n",
    "\n",
    "results['all'] = {}\n",
    "results['azure'] = {}\n",
    "results['detectron'] = {}\n",
    "results['google'] = {}\n",
    "results['rekognition'] = {}\n",
    "\n",
    "stds['all'] = {}\n",
    "stds['azure'] = {}\n",
    "stds['detectron'] = {}\n",
    "stds['google'] = {}\n",
    "stds['rekognition'] = {}"
   ]
  },
  {
   "cell_type": "code",
   "execution_count": 26,
   "metadata": {},
   "outputs": [
    {
     "name": "stdout",
     "output_type": "stream",
     "text": [
      "starting overall...\n"
     ]
    }
   ],
   "source": [
    "print('starting overall...')\n",
    "parsed_data = parse_all_data(contents)\n",
    "means['all']['all'], dfs['all']['all'],results['all']['all'],stds['all']['all'] = run_analysis(parsed_data)"
   ]
  },
  {
   "cell_type": "code",
   "execution_count": 27,
   "metadata": {},
   "outputs": [
    {
     "name": "stdout",
     "output_type": "stream",
     "text": [
      "starting age...\n",
      "starting education...\n",
      "starting gender...\n"
     ]
    }
   ],
   "source": [
    "# Age\n",
    "print('starting age...')\n",
    "parsed_data = parse_all_data(contents,allowed_ages=['26-30','31-35'])\n",
    "means['all']['all_35'], dfs['all']['all_35'],results['all']['all_35'],stds['all']['all_35'] = run_analysis(parsed_data)\n",
    "\n",
    "parsed_data = parse_all_data(contents,allowed_ages=['36-40','41-45'])\n",
    "means['all']['all_35_45'], dfs['all']['all_35_45'],results['all']['all_35_45'],stds['all']['all_35_45'] = run_analysis(parsed_data)\n",
    "\n",
    "parsed_data = parse_all_data(contents,allowed_ages=['45-50'])\n",
    "means['all']['all_45'], dfs['all']['all_45'],results['all']['all_45'],stds['all']['all_45'] = run_analysis(parsed_data)\n",
    "\n",
    "# Education\n",
    "print('starting education...')\n",
    "parsed_data = parse_all_data(contents,allowed_educations=['high school'])\n",
    "means['all']['all_edu_1'], dfs['all']['all_edu_1'],results['all']['all_edu_1'],stds['all']['all_edu_1'] = run_analysis(parsed_data)\n",
    "\n",
    "parsed_data = parse_all_data(contents,allowed_educations=['bachelor'])\n",
    "means['all']['all_edu_2'], dfs['all']['all_edu_2'],results['all']['all_edu_2'],stds['all']['all_edu_2'] = run_analysis(parsed_data)\n",
    "\n",
    "parsed_data = parse_all_data(contents,allowed_educations=['master','pg'])\n",
    "means['all']['all_edu_3'], dfs['all']['all_edu_3'],results['all']['all_edu_3'],stds['all']['all_edu_3'] = run_analysis(parsed_data)\n",
    "\n",
    "# Gender\n",
    "print('starting gender...')\n",
    "parsed_data = parse_all_data(contents,allowed_genders=['male'])\n",
    "means['all']['all_male'], dfs['all']['all_male'],results['all']['all_male'],stds['all']['all_male'] = run_analysis(parsed_data)\n",
    "\n",
    "parsed_data = parse_all_data(contents,allowed_genders=['female'])\n",
    "means['all']['all_female'], dfs['all']['all_female'],results['all']['all_female'],stds['all']['all_female'] = run_analysis(parsed_data)"
   ]
  },
  {
   "cell_type": "markdown",
   "metadata": {},
   "source": [
    "# Humans vs Azure"
   ]
  },
  {
   "cell_type": "code",
   "execution_count": 28,
   "metadata": {
    "scrolled": true
   },
   "outputs": [
    {
     "name": "stdout",
     "output_type": "stream",
     "text": [
      "azure\n",
      "starting overall...\n",
      "starting age...\n",
      "starting education...\n",
      "starting gender...\n",
      "detectron\n",
      "starting overall...\n",
      "starting age...\n",
      "starting education...\n",
      "starting gender...\n",
      "google\n",
      "starting overall...\n",
      "starting age...\n",
      "starting education...\n",
      "starting gender...\n",
      "rekognition\n",
      "starting overall...\n",
      "starting age...\n",
      "starting education...\n",
      "starting gender...\n"
     ]
    }
   ],
   "source": [
    "for ALGO in ['azure','detectron','google','rekognition']:\n",
    "    print(ALGO)\n",
    "    print('starting overall...')\n",
    "    parsed_data = parse_all_data(contents, allowed_algos=['humans',ALGO])\n",
    "    means[ALGO]['all'], dfs[ALGO]['all'], results[ALGO]['all'], stds[ALGO]['all'] = run_analysis(parsed_data)\n",
    "\n",
    "    # Age\n",
    "    print('starting age...')\n",
    "    parsed_data = parse_all_data(contents,allowed_ages=['26-30','31-35'], allowed_algos=['humans',ALGO])\n",
    "    means[ALGO]['all_35'], dfs[ALGO]['all_35'], results[ALGO]['all_35'], stds[ALGO]['all_35'] = run_analysis(parsed_data)\n",
    "\n",
    "    parsed_data = parse_all_data(contents,allowed_ages=['36-40','41-45'], allowed_algos=['humans',ALGO])\n",
    "    means[ALGO]['all_35_45'], dfs[ALGO]['all_35_45'], results[ALGO]['all_35_45'], stds[ALGO]['all_35_45'] = run_analysis(parsed_data)\n",
    "\n",
    "    parsed_data = parse_all_data(contents,allowed_ages=['45-50'], allowed_algos=['humans',ALGO])\n",
    "    means[ALGO]['all_45'], dfs[ALGO]['all_45'], results[ALGO]['all_45'], stds[ALGO]['all_45'] = run_analysis(parsed_data)\n",
    "\n",
    "    # Education\n",
    "    print('starting education...')\n",
    "    parsed_data = parse_all_data(contents,allowed_educations=['high school'], allowed_algos=['humans',ALGO])\n",
    "    means[ALGO]['all_edu_1'], dfs[ALGO]['all_edu_1'], results[ALGO]['all_edu_1'], stds[ALGO]['all_edu_1'] = run_analysis(parsed_data)\n",
    "\n",
    "    parsed_data = parse_all_data(contents,allowed_educations=['bachelor'], allowed_algos=['humans',ALGO])\n",
    "    means[ALGO]['all_edu_2'], dfs[ALGO]['all_edu_2'], results[ALGO]['all_edu_2'], stds[ALGO]['all_edu_2'] = run_analysis(parsed_data)\n",
    "\n",
    "    parsed_data = parse_all_data(contents,allowed_educations=['master','pg'], allowed_algos=['humans',ALGO])\n",
    "    means[ALGO]['all_edu_3'], dfs[ALGO]['all_edu_3'], results[ALGO]['all_edu_3'], stds[ALGO]['all_edu_3'] = run_analysis(parsed_data)\n",
    "\n",
    "    # Gender\n",
    "    print('starting gender...')\n",
    "    parsed_data = parse_all_data(contents,allowed_genders=['male'], allowed_algos=['humans',ALGO])\n",
    "    means[ALGO]['all_male'], dfs[ALGO]['all_male'], results[ALGO]['all_male'], stds[ALGO]['all_male'] = run_analysis(parsed_data)\n",
    "\n",
    "    parsed_data = parse_all_data(contents,allowed_genders=['female'], allowed_algos=['humans',ALGO])\n",
    "    means[ALGO]['all_female'], dfs[ALGO]['all_female'], results[ALGO]['all_female'], stds[ALGO]['all_female'] = run_analysis(parsed_data)\n",
    "\n",
    "\n",
    "    # parsed_data = parse_all_data(contents,['humans','azure'])\n",
    "    # means['azure'], dfs['azure'] = run_analysis(parsed_data)"
   ]
  },
  {
   "cell_type": "code",
   "execution_count": 54,
   "metadata": {},
   "outputs": [],
   "source": [
    "import pickle\n",
    "all_H_accuracies = {}\n",
    "for key_1 in results.keys():\n",
    "    all_H_accuracies[key_1] = {}\n",
    "    for key_2 in results[key_1].keys():\n",
    "        image_H_accuracy = {}\n",
    "        all_actuals_H,all_responses_H,all_images_H = results[key_1][key_2]\n",
    "        all_H_accuracy = (np.array(all_actuals_H) == np.array(all_responses_H)).astype('int')\n",
    "        for im_ct in range(len(all_images_H)):\n",
    "            im = all_images_H[im_ct]\n",
    "            if im not in image_H_accuracy.keys(): \n",
    "                image_H_accuracy[im] = [all_actuals_H[im_ct] == all_responses_H[im_ct]]\n",
    "            else:\n",
    "                image_H_accuracy[im].append(all_actuals_H[im_ct] == all_responses_H[im_ct])\n",
    "        all_H_accuracies[key_1][key_2] = image_H_accuracy"
   ]
  },
  {
   "cell_type": "code",
   "execution_count": 55,
   "metadata": {},
   "outputs": [],
   "source": [
    "with open('all_human_data.p','wb') as F:\n",
    "    all_data = [means, dfs, results, stds, all_H_accuracies]\n",
    "    pickle.dump(all_data, F)"
   ]
  },
  {
   "cell_type": "markdown",
   "metadata": {},
   "source": [
    "# Humans vs Detectron"
   ]
  },
  {
   "cell_type": "code",
   "execution_count": 65,
   "metadata": {},
   "outputs": [],
   "source": [
    "\n",
    "# ALGO = 'detectron'\n",
    "# print('starting overall...')\n",
    "# parsed_data = parse_all_data(contents, allowed_algos=['humans',ALGO])\n",
    "# means[ALGO]['all'], dfs[ALGO]['all'], results[ALGO]['all_female'], stds[ALGO]['all_female'] = run_analysis(parsed_data)\n",
    "\n",
    "# # Age\n",
    "# print('starting age...')\n",
    "# parsed_data = parse_all_data(contents,allowed_ages=['26-30','31-35'], allowed_algos=['humans',ALGO])\n",
    "# means[ALGO]['all_35'], dfs[ALGO]['all_35'], results[ALGO]['all_female'], stds[ALGO]['all_female'] = run_analysis(parsed_data)\n",
    "\n",
    "# parsed_data = parse_all_data(contents,allowed_ages=['36-40','41-45'], allowed_algos=['humans',ALGO])\n",
    "# means[ALGO]['all_35_45'], dfs[ALGO]['all_35_45'], results[ALGO]['all_female'], stds[ALGO]['all_female'] = run_analysis(parsed_data)\n",
    "\n",
    "# parsed_data = parse_all_data(contents,allowed_ages=['45-50'], allowed_algos=['humans',ALGO])\n",
    "# means[ALGO]['all_45'], dfs[ALGO]['all_45'], results[ALGO]['all_female'], stds[ALGO]['all_female'] = run_analysis(parsed_data)\n",
    "\n",
    "# # Education\n",
    "# print('starting education...')\n",
    "# parsed_data = parse_all_data(contents,allowed_educations=['high school'], allowed_algos=['humans',ALGO])\n",
    "# means[ALGO]['all_edu_1'], dfs[ALGO]['all_edu_1'], results[ALGO]['all_female'], stds[ALGO]['all_female'] = run_analysis(parsed_data)\n",
    "\n",
    "# parsed_data = parse_all_data(contents,allowed_educations=['bachelor'], allowed_algos=['humans',ALGO])\n",
    "# means[ALGO]['all_edu_2'], dfs[ALGO]['all_edu_2'], results[ALGO]['all_female'], stds[ALGO]['all_female'] = run_analysis(parsed_data)\n",
    "\n",
    "# parsed_data = parse_all_data(contents,allowed_educations=['master','pg'], allowed_algos=['humans',ALGO])\n",
    "# means[ALGO]['all_edu_3'], dfs[ALGO]['all_edu_3'], results[ALGO]['all_female'], stds[ALGO]['all_female'] = run_analysis(parsed_data)\n",
    "\n",
    "# # Gender\n",
    "# print('starting gender...')\n",
    "# parsed_data = parse_all_data(contents,allowed_genders=['male'], allowed_algos=['humans',ALGO])\n",
    "# means[ALGO]['all_male'], dfs[ALGO]['all_male'] = run_analysis(parsed_data)\n",
    "\n",
    "# parsed_data = parse_all_data(contents,allowed_genders=['female'], allowed_algos=['humans',ALGO])\n",
    "# means[ALGO]['all_female'], dfs[ALGO]['all_female'] = run_analysis(parsed_data)\n",
    "\n",
    "# # parsed_data = parse_all_data(contents,['humans','detectron'])\n",
    "# # means['detectron'], dfs['detectron'] = run_analysis(parsed_data)"
   ]
  },
  {
   "cell_type": "markdown",
   "metadata": {},
   "source": [
    "# Humans vs Google"
   ]
  },
  {
   "cell_type": "code",
   "execution_count": 66,
   "metadata": {},
   "outputs": [],
   "source": [
    "# ALGO = 'google'\n",
    "# print('starting overall...')\n",
    "# parsed_data = parse_all_data(contents, allowed_algos=['humans',ALGO])\n",
    "# means[ALGO]['all'], dfs[ALGO]['all'] = run_analysis(parsed_data)\n",
    "\n",
    "# # Age\n",
    "# print('starting age...')\n",
    "# parsed_data = parse_all_data(contents,allowed_ages=['26-30','31-35'], allowed_algos=['humans',ALGO])\n",
    "# means[ALGO]['all_35'], dfs[ALGO]['all_35'] = run_analysis(parsed_data)\n",
    "\n",
    "# parsed_data = parse_all_data(contents,allowed_ages=['36-40','41-45'], allowed_algos=['humans',ALGO])\n",
    "# means[ALGO]['all_35_45'], dfs[ALGO]['all_35_45'] = run_analysis(parsed_data)\n",
    "\n",
    "# parsed_data = parse_all_data(contents,allowed_ages=['45-50'], allowed_algos=['humans',ALGO])\n",
    "# means[ALGO]['all_45'], dfs[ALGO]['all_45'] = run_analysis(parsed_data)\n",
    "\n",
    "# # Education\n",
    "# print('starting education...')\n",
    "# parsed_data = parse_all_data(contents,allowed_educations=['high school'], allowed_algos=['humans',ALGO])\n",
    "# means[ALGO]['all_edu_1'], dfs[ALGO]['all_edu_1'] = run_analysis(parsed_data)\n",
    "\n",
    "# parsed_data = parse_all_data(contents,allowed_educations=['bachelor'], allowed_algos=['humans',ALGO])\n",
    "# means[ALGO]['all_edu_2'], dfs[ALGO]['all_edu_2'] = run_analysis(parsed_data)\n",
    "\n",
    "# parsed_data = parse_all_data(contents,allowed_educations=['master','pg'], allowed_algos=['humans',ALGO])\n",
    "# means[ALGO]['all_edu_3'], dfs[ALGO]['all_edu_3'] = run_analysis(parsed_data)\n",
    "\n",
    "# # Gender\n",
    "# print('starting gender...')\n",
    "# parsed_data = parse_all_data(contents,allowed_genders=['male'], allowed_algos=['humans',ALGO])\n",
    "# means[ALGO]['all_male'], dfs[ALGO]['all_male'] = run_analysis(parsed_data)\n",
    "\n",
    "# parsed_data = parse_all_data(contents,allowed_genders=['female'], allowed_algos=['humans',ALGO])\n",
    "# means[ALGO]['all_female'], dfs[ALGO]['all_female'] = run_analysis(parsed_data)\n",
    "\n",
    "# # parsed_data = parse_all_data(contents,['humans','google'])\n",
    "# # means['google'], dfs['google'] = run_analysis(parsed_data)"
   ]
  },
  {
   "cell_type": "markdown",
   "metadata": {},
   "source": [
    "# Humans vs Rekognition"
   ]
  },
  {
   "cell_type": "code",
   "execution_count": 67,
   "metadata": {},
   "outputs": [],
   "source": [
    "# ALGO = 'rekognition'\n",
    "# print('starting overall...')\n",
    "# parsed_data = parse_all_data(contents, allowed_algos=['humans',ALGO])\n",
    "# means[ALGO]['all'], dfs[ALGO]['all'] = run_analysis(parsed_data)\n",
    "\n",
    "# # Age\n",
    "# print('starting age...')\n",
    "# parsed_data = parse_all_data(contents,allowed_ages=['26-30','31-35'], allowed_algos=['humans',ALGO])\n",
    "# means[ALGO]['all_35'], dfs[ALGO]['all_35'] = run_analysis(parsed_data)\n",
    "\n",
    "# parsed_data = parse_all_data(contents,allowed_ages=['36-40','41-45'], allowed_algos=['humans',ALGO])\n",
    "# means[ALGO]['all_35_45'], dfs[ALGO]['all_35_45'] = run_analysis(parsed_data)\n",
    "\n",
    "# parsed_data = parse_all_data(contents,allowed_ages=['45-50'], allowed_algos=['humans',ALGO])\n",
    "# means[ALGO]['all_45'], dfs[ALGO]['all_45'] = run_analysis(parsed_data)\n",
    "\n",
    "# # Education\n",
    "# print('starting education...')\n",
    "# parsed_data = parse_all_data(contents,allowed_educations=['high school'], allowed_algos=['humans',ALGO])\n",
    "# means[ALGO]['all_edu_1'], dfs[ALGO]['all_edu_1'] = run_analysis(parsed_data)\n",
    "\n",
    "# parsed_data = parse_all_data(contents,allowed_educations=['bachelor'], allowed_algos=['humans',ALGO])\n",
    "# means[ALGO]['all_edu_2'], dfs[ALGO]['all_edu_2'] = run_analysis(parsed_data)\n",
    "\n",
    "# parsed_data = parse_all_data(contents,allowed_educations=['master','pg'], allowed_algos=['humans',ALGO])\n",
    "# means[ALGO]['all_edu_3'], dfs[ALGO]['all_edu_3'] = run_analysis(parsed_data)\n",
    "\n",
    "# # Gender\n",
    "# print('starting gender...')\n",
    "# parsed_data = parse_all_data(contents,allowed_genders=['male'], allowed_algos=['humans',ALGO])\n",
    "# means[ALGO]['all_male'], dfs[ALGO]['all_male'] = run_analysis(parsed_data)\n",
    "\n",
    "# parsed_data = parse_all_data(contents,allowed_genders=['female'], allowed_algos=['humans',ALGO])\n",
    "# means[ALGO]['all_female'], dfs[ALGO]['all_female'] = run_analysis(parsed_data)\n",
    "\n",
    "# # parsed_data = parse_all_data(contents,['humans','rekognition'])\n",
    "# # means['rekognition'], dfs['rekognition'] = run_analysis(parsed_data)"
   ]
  },
  {
   "cell_type": "markdown",
   "metadata": {},
   "source": [
    "# Plotting"
   ]
  },
  {
   "cell_type": "code",
   "execution_count": 33,
   "metadata": {},
   "outputs": [],
   "source": [
    "result_conf_mats = {}"
   ]
  },
  {
   "cell_type": "code",
   "execution_count": 34,
   "metadata": {},
   "outputs": [],
   "source": [
    "for split in ['all','all_35','all_35_45','all_45','all_edu_1','all_edu_2','all_edu_3','all_male','all_female']:\n",
    "    result_conf_mat = np.zeros((6,2))\n",
    "    result_conf_mat[0] = np.array(dfs['all'][split])[0]\n",
    "    result_conf_mat[1] = np.array(dfs['all'][split])[1]\n",
    "    result_conf_mat[2] = np.array(dfs['azure'][split])[1]\n",
    "    result_conf_mat[3] = np.array(dfs['detectron'][split])[1]\n",
    "    result_conf_mat[4] = np.array(dfs['google'][split])[1]\n",
    "    result_conf_mat[5] = np.array(dfs['rekognition'][split])[1]\n",
    "    result_conf_mats[split] = result_conf_mat"
   ]
  },
  {
   "cell_type": "code",
   "execution_count": 35,
   "metadata": {},
   "outputs": [],
   "source": [
    "def plot_confmat(result_conf_mat, plotname):\n",
    "    modelist = ['Azure','Detectron','Google','Rekognition']\n",
    "    df_cm = pd.DataFrame(result_conf_mat, index = [i for i in ['Human','AI']+modelist],\n",
    "                  columns = [i for i in ['Human','AI']])\n",
    "    plt.figure(figsize = (1.2,3.5))\n",
    "    sn.heatmap(df_cm, annot=True,robust=True, cmap='RdBu_r', vmin=0, vmax=1)\n",
    "    plt.xlabel(\"Predicted\")\n",
    "    plt.ylabel(\"Ground Truth\")\n",
    "    \n",
    "    plt.savefig('figures/' + plotname + '_confmat.pdf', bbox_inches='tight')\n",
    "    plt.show()"
   ]
  },
  {
   "cell_type": "code",
   "execution_count": 36,
   "metadata": {},
   "outputs": [],
   "source": [
    "# for split in result_conf_mats.keys():\n",
    "#     result_conf_mat = result_conf_mats[split]\n",
    "#     plotname = 'mutli_label_recognition_%s'%split\n",
    "#     plot_confmat(result_conf_mat,plotname)"
   ]
  },
  {
   "cell_type": "code",
   "execution_count": 37,
   "metadata": {},
   "outputs": [],
   "source": [
    "#compute top 1 accuracy for each AI model and also overall AI\n",
    "def plot_graph(result_conf_mat, all_stds, plotname):\n",
    "    modelist = ['Azure','Detectron','Google','Rekognition']\n",
    "    top1 = []\n",
    "#     print(result_conf_mat)\n",
    "    for i in range(1+len(modelist)):\n",
    "        #print(i)\n",
    "        top1.append((result_conf_mat[0][0]+result_conf_mat[i+1][1])/2)\n",
    "#     print(top1)\n",
    "\n",
    "    import matplotlib.pyplot as plt\n",
    "    import numpy as np\n",
    "\n",
    "    #data\n",
    "    #x-axis\n",
    "    years = list(range(1, 2+len(modelist)))\n",
    "    strtask = ['AI'] + modelist\n",
    "    #print(years)\n",
    "    #print(strtask)\n",
    "\n",
    "    # Figure Size\n",
    "    fig, ax = plt.subplots()\n",
    "    \n",
    "    from matplotlib.patches import Rectangle\n",
    "    ax.add_patch(Rectangle((-0.5, 0.45), len(top1), 0.1,facecolor='yellow'))\n",
    "\n",
    "    #bar chart properties\n",
    "    ax.bar(strtask, top1, yerr=all_stds,\n",
    "       align='center', alpha=0.5, ecolor='black', capsize=10,\n",
    "       color ='black', width = 0.3)\n",
    "    \n",
    "#     ax.bar(strtask, top1, color ='black', width = 0.3)\n",
    "\n",
    "    plt.ylabel('Top-1 Accuracy')\n",
    "    plt.xticks(rotation = 90) # Rotates X-Axis Ticks by 45-degrees\n",
    "\n",
    "    plt.ylim(0.3, 1)\n",
    "    #plt.xlim(0.5, len(years)+0.5)\n",
    "\n",
    "    #draw chance 0.5 \n",
    "#     chancex =np.arange(len(years))\n",
    "#     plt.plot(chancex, np.arange(len(chancex))*0+0.5, 'k--', label='chance (50%)')\n",
    "    #plt.legend()\n",
    "\n",
    "    fig.tight_layout()\n",
    "\n",
    "    fig.set_figwidth(2.5)\n",
    "    fig.set_figheight(5)\n",
    "\n",
    "    fig.legend(loc='upper center', bbox_to_anchor=(0.55, 1.0), ncol=3, fancybox=True, shadow=True,frameon=False)\n",
    "\n",
    "    ax.spines['top'].set_visible(False)\n",
    "    ax.spines['right'].set_visible(False)\n",
    "\n",
    "    plt.show()\n",
    "    fig.savefig('figures/' + plotname + '.pdf', bbox_inches='tight')"
   ]
  },
  {
   "cell_type": "code",
   "execution_count": 39,
   "metadata": {},
   "outputs": [],
   "source": [
    "converted_stds = {}\n",
    "for key_1 in ['all', 'all_35', 'all_35_45', 'all_45', 'all_edu_1', 'all_edu_2', 'all_edu_3', 'all_male', 'all_female']:\n",
    "    converted_stds[key_1] = {}\n",
    "    for key_2 in ['all', 'azure', 'detectron', 'google', 'rekognition']:\n",
    "        converted_stds[key_1][key_2] = stds[key_2][key_1]"
   ]
  },
  {
   "cell_type": "code",
   "execution_count": 40,
   "metadata": {},
   "outputs": [
    {
     "name": "stderr",
     "output_type": "stream",
     "text": [
      "/Users/smadan/miniconda3/lib/python3.7/site-packages/ipykernel_launcher.py:30: MatplotlibDeprecationWarning: Support for passing a (n, 1)-shaped error array to errorbar() is deprecated since Matplotlib 3.1 and will be removed in 3.3; pass a 1D array instead.\n",
      "No handles with labels found to put in legend.\n"
     ]
    },
    {
     "name": "stdout",
     "output_type": "stream",
     "text": [
      "mutli_label_recognition_all\n"
     ]
    },
    {
     "data": {
      "image/png": "[encoded data removed]",
      "text/plain": [
       "<Figure size 180x360 with 1 Axes>"
      ]
     },
     "metadata": {
      "needs_background": "light"
     },
     "output_type": "display_data"
    },
    {
     "name": "stderr",
     "output_type": "stream",
     "text": [
      "/Users/smadan/miniconda3/lib/python3.7/site-packages/ipykernel_launcher.py:30: MatplotlibDeprecationWarning: Support for passing a (n, 1)-shaped error array to errorbar() is deprecated since Matplotlib 3.1 and will be removed in 3.3; pass a 1D array instead.\n",
      "No handles with labels found to put in legend.\n"
     ]
    },
    {
     "name": "stdout",
     "output_type": "stream",
     "text": [
      "mutli_label_recognition_all_35\n"
     ]
    },
    {
     "data": {
      "image/png": "[encoded data removed]",
      "text/plain": [
       "<Figure size 180x360 with 1 Axes>"
      ]
     },
     "metadata": {
      "needs_background": "light"
     },
     "output_type": "display_data"
    },
    {
     "name": "stderr",
     "output_type": "stream",
     "text": [
      "/Users/smadan/miniconda3/lib/python3.7/site-packages/ipykernel_launcher.py:30: MatplotlibDeprecationWarning: Support for passing a (n, 1)-shaped error array to errorbar() is deprecated since Matplotlib 3.1 and will be removed in 3.3; pass a 1D array instead.\n",
      "No handles with labels found to put in legend.\n"
     ]
    },
    {
     "name": "stdout",
     "output_type": "stream",
     "text": [
      "mutli_label_recognition_all_35_45\n"
     ]
    },
    {
     "data": {
      "image/png": "[encoded data removed]",
      "text/plain": [
       "<Figure size 180x360 with 1 Axes>"
      ]
     },
     "metadata": {
      "needs_background": "light"
     },
     "output_type": "display_data"
    },
    {
     "name": "stderr",
     "output_type": "stream",
     "text": [
      "/Users/smadan/miniconda3/lib/python3.7/site-packages/ipykernel_launcher.py:30: MatplotlibDeprecationWarning: Support for passing a (n, 1)-shaped error array to errorbar() is deprecated since Matplotlib 3.1 and will be removed in 3.3; pass a 1D array instead.\n",
      "No handles with labels found to put in legend.\n"
     ]
    },
    {
     "name": "stdout",
     "output_type": "stream",
     "text": [
      "mutli_label_recognition_all_45\n"
     ]
    },
    {
     "data": {
      "image/png": "[encoded data removed]",
      "text/plain": [
       "<Figure size 180x360 with 1 Axes>"
      ]
     },
     "metadata": {
      "needs_background": "light"
     },
     "output_type": "display_data"
    },
    {
     "name": "stdout",
     "output_type": "stream",
     "text": [
      "mutli_label_recognition_all_edu_1\n"
     ]
    },
    {
     "name": "stderr",
     "output_type": "stream",
     "text": [
      "/Users/smadan/miniconda3/lib/python3.7/site-packages/ipykernel_launcher.py:30: MatplotlibDeprecationWarning: Support for passing a (n, 1)-shaped error array to errorbar() is deprecated since Matplotlib 3.1 and will be removed in 3.3; pass a 1D array instead.\n",
      "No handles with labels found to put in legend.\n"
     ]
    },
    {
     "data": {
      "image/png": "[encoded data removed]",
      "text/plain": [
       "<Figure size 180x360 with 1 Axes>"
      ]
     },
     "metadata": {
      "needs_background": "light"
     },
     "output_type": "display_data"
    },
    {
     "name": "stdout",
     "output_type": "stream",
     "text": [
      "mutli_label_recognition_all_edu_2\n"
     ]
    },
    {
     "name": "stderr",
     "output_type": "stream",
     "text": [
      "/Users/smadan/miniconda3/lib/python3.7/site-packages/ipykernel_launcher.py:30: MatplotlibDeprecationWarning: Support for passing a (n, 1)-shaped error array to errorbar() is deprecated since Matplotlib 3.1 and will be removed in 3.3; pass a 1D array instead.\n",
      "No handles with labels found to put in legend.\n"
     ]
    },
    {
     "data": {
      "image/png": "[encoded data removed]",
      "text/plain": [
       "<Figure size 180x360 with 1 Axes>"
      ]
     },
     "metadata": {
      "needs_background": "light"
     },
     "output_type": "display_data"
    },
    {
     "name": "stdout",
     "output_type": "stream",
     "text": [
      "mutli_label_recognition_all_edu_3\n"
     ]
    },
    {
     "name": "stderr",
     "output_type": "stream",
     "text": [
      "/Users/smadan/miniconda3/lib/python3.7/site-packages/ipykernel_launcher.py:30: MatplotlibDeprecationWarning: Support for passing a (n, 1)-shaped error array to errorbar() is deprecated since Matplotlib 3.1 and will be removed in 3.3; pass a 1D array instead.\n",
      "No handles with labels found to put in legend.\n"
     ]
    },
    {
     "data": {
      "image/png": "[encoded data removed]",
      "text/plain": [
       "<Figure size 180x360 with 1 Axes>"
      ]
     },
     "metadata": {
      "needs_background": "light"
     },
     "output_type": "display_data"
    },
    {
     "name": "stdout",
     "output_type": "stream",
     "text": [
      "mutli_label_recognition_all_male\n"
     ]
    },
    {
     "name": "stderr",
     "output_type": "stream",
     "text": [
      "/Users/smadan/miniconda3/lib/python3.7/site-packages/ipykernel_launcher.py:30: MatplotlibDeprecationWarning: Support for passing a (n, 1)-shaped error array to errorbar() is deprecated since Matplotlib 3.1 and will be removed in 3.3; pass a 1D array instead.\n",
      "No handles with labels found to put in legend.\n"
     ]
    },
    {
     "data": {
      "image/png": "[encoded data removed]",
      "text/plain": [
       "<Figure size 180x360 with 1 Axes>"
      ]
     },
     "metadata": {
      "needs_background": "light"
     },
     "output_type": "display_data"
    },
    {
     "name": "stdout",
     "output_type": "stream",
     "text": [
      "mutli_label_recognition_all_female\n"
     ]
    },
    {
     "name": "stderr",
     "output_type": "stream",
     "text": [
      "/Users/smadan/miniconda3/lib/python3.7/site-packages/ipykernel_launcher.py:30: MatplotlibDeprecationWarning: Support for passing a (n, 1)-shaped error array to errorbar() is deprecated since Matplotlib 3.1 and will be removed in 3.3; pass a 1D array instead.\n",
      "No handles with labels found to put in legend.\n"
     ]
    },
    {
     "data": {
      "image/png": "[encoded data removed]",
      "text/plain": [
       "<Figure size 180x360 with 1 Axes>"
      ]
     },
     "metadata": {
      "needs_background": "light"
     },
     "output_type": "display_data"
    }
   ],
   "source": [
    "for split in result_conf_mats.keys():\n",
    "    result_conf_mat = result_conf_mats[split]\n",
    "    plotname = 'mutli_label_recognition_%s'%split\n",
    "    all_stds = []\n",
    "    for key_2 in ['all', 'azure', 'detectron', 'google', 'rekognition']:\n",
    "        all_stds.append(converted_stds[split][key_2])\n",
    "    print(plotname)\n",
    "    plot_graph(result_conf_mat,all_stds,plotname)"
   ]
  },
  {
   "cell_type": "code",
   "execution_count": null,
   "metadata": {},
   "outputs": [],
   "source": []
  }
 ],
 "metadata": {
  "kernelspec": {
   "display_name": "Python 3",
   "language": "python",
   "name": "python3"
  },
  "language_info": {
   "codemirror_mode": {
    "name": "ipython",
    "version": 3
   },
   "file_extension": ".py",
   "mimetype": "text/x-python",
   "name": "python",
   "nbconvert_exporter": "python",
   "pygments_lexer": "ipython3",
   "version": "3.5.6"
  }
 },
 "nbformat": 4,
 "nbformat_minor": 4
}
