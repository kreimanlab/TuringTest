{
 "cells": [
  {
   "cell_type": "code",
   "execution_count": 18,
   "metadata": {},
   "outputs": [],
   "source": [
    "import os\n",
    "from PIL import Image\n",
    "import matplotlib.pyplot as plt\n",
    "import matplotlib.image as img"
   ]
  },
  {
   "cell_type": "code",
   "execution_count": 19,
   "metadata": {},
   "outputs": [],
   "source": [
    "import matplotlib.image as img\n",
    "import matplotlib.pyplot as plt\n",
    "from scipy.cluster.vq import whiten\n",
    "from scipy.cluster.vq import kmeans\n",
    "import pandas as pd"
   ]
  },
  {
   "cell_type": "code",
   "execution_count": 52,
   "metadata": {},
   "outputs": [],
   "source": [
    "from scipy.spatial import KDTree"
   ]
  },
  {
   "cell_type": "code",
   "execution_count": 53,
   "metadata": {},
   "outputs": [],
   "source": [
    "import webcolors\n",
    "import pickle"
   ]
  },
  {
   "cell_type": "code",
   "execution_count": 54,
   "metadata": {},
   "outputs": [],
   "source": [
    "from webcolors import (\n",
    "    CSS3_HEX_TO_NAMES,\n",
    "#     css3_hex_to_names,\n",
    "    hex_to_rgb,\n",
    ")"
   ]
  },
  {
   "cell_type": "code",
   "execution_count": 55,
   "metadata": {},
   "outputs": [],
   "source": [
    "with open('css_color_to_name.p','rb') as F:\n",
    "    color_to_name = pickle.load(F)"
   ]
  },
  {
   "cell_type": "code",
   "execution_count": 56,
   "metadata": {},
   "outputs": [],
   "source": [
    "restricted_css3 = {}\n",
    "for key in CSS3_HEX_TO_NAMES.keys():\n",
    "    if color_to_name[key] != 'none':\n",
    "        restricted_css3[key] = CSS3_HEX_TO_NAMES[key]"
   ]
  },
  {
   "cell_type": "code",
   "execution_count": 57,
   "metadata": {},
   "outputs": [],
   "source": [
    "CSS3_HEX_TO_NAMES = restricted_css3"
   ]
  },
  {
   "cell_type": "code",
   "execution_count": 58,
   "metadata": {},
   "outputs": [],
   "source": [
    "image_folder = 'static/dataset/coco_val_set/'"
   ]
  },
  {
   "cell_type": "code",
   "execution_count": 59,
   "metadata": {},
   "outputs": [],
   "source": [
    "image_files = os.listdir(image_folder)\n",
    "image_paths = [os.path.join(image_folder, i) for i in image_files]"
   ]
  },
  {
   "cell_type": "code",
   "execution_count": 60,
   "metadata": {},
   "outputs": [],
   "source": [
    "import numpy as np\n",
    "from math import sqrt"
   ]
  },
  {
   "cell_type": "code",
   "execution_count": 61,
   "metadata": {},
   "outputs": [],
   "source": [
    "def get_similarity(c1, c2):\n",
    "    \"\"\"Computes the pearson correlation coefficient for two colors. The result\n",
    "    will be between 1.0 (very similar) and -1.0 (no similarity).\"\"\"\n",
    "#     c1 = color_to_rgb(color1)\n",
    "#     c2 = color_to_rgb(color2)\n",
    "    s1 = sum(c1)\n",
    "    s2 = sum(c2)\n",
    "    sp1 = sum(map(lambda c: pow(c, 2), c1))\n",
    "    sp2 = sum(map(lambda c: pow(c, 2), c2))\n",
    "    sp = sum(map(lambda x: x[0] * x[1], zip(c1, c2)))\n",
    "\n",
    "    return (sp - (s1 * s2 / 3.0)) / sqrt((sp1 - pow(s1, 2) / 3.0) * (sp2 - pow(s2, 2) / 3.0))"
   ]
  },
  {
   "cell_type": "code",
   "execution_count": 62,
   "metadata": {},
   "outputs": [],
   "source": [
    "from scipy.stats.stats import pearsonr"
   ]
  },
  {
   "cell_type": "code",
   "execution_count": 63,
   "metadata": {},
   "outputs": [],
   "source": [
    "def convert_using_pearson(rgb_tuple):\n",
    "    best_similarity = 0\n",
    "    best_color = 'NA'\n",
    "    for color in CSS3_HEX_TO_NAMES.keys():\n",
    "        color_rgb = hex_to_rgb(color)\n",
    "        similarity_score = pearsonr(color_rgb,rgb_tuple)[0]\n",
    "        \n",
    "        if similarity_score > best_similarity:\n",
    "            best_similarity = similarity_score\n",
    "            best_color = CSS3_HEX_TO_NAMES[color]\n",
    "            best_rgb = color_rgb\n",
    "    return best_color, [best_rgb[0],best_rgb[1],best_rgb[2]]\n",
    "\n",
    "def convert_rgb_to_names(rgb_tuple):\n",
    "    \n",
    "    # a dictionary of all the hex and their respective names in css3\n",
    "    css3_db = CSS3_HEX_TO_NAMES\n",
    "    names = []\n",
    "    rgb_values = []\n",
    "    for color_hex, color_name in css3_db.items():\n",
    "        names.append(color_name)\n",
    "        rgb_values.append(hex_to_rgb(color_hex))\n",
    "    \n",
    "    kdt_db = KDTree(rgb_values)\n",
    "    distance, index = kdt_db.query(rgb_tuple)\n",
    "    return names[index], [rgb_values[index][0],rgb_values[index][1],rgb_values[index][2]]\n",
    "\n",
    "\n",
    "def display_matched_colors(original_rgb,matched_rgb):\n",
    "    f, axarr = plt.subplots(1,2)\n",
    "    axarr[0].imshow([[original_rgb]])\n",
    "    axarr[1].imshow([[matched_rgb]])\n",
    "    plt.show()"
   ]
  },
  {
   "cell_type": "code",
   "execution_count": 64,
   "metadata": {},
   "outputs": [],
   "source": [
    "inverted_css3 = {}\n",
    "for key,value in CSS3_HEX_TO_NAMES.items():\n",
    "    inverted_css3[value] = key"
   ]
  },
  {
   "cell_type": "code",
   "execution_count": 65,
   "metadata": {},
   "outputs": [],
   "source": [
    "histogram_dominant_color = {}"
   ]
  },
  {
   "cell_type": "code",
   "execution_count": 66,
   "metadata": {},
   "outputs": [],
   "source": [
    "from tqdm import tqdm"
   ]
  },
  {
   "cell_type": "code",
   "execution_count": 69,
   "metadata": {},
   "outputs": [],
   "source": [
    "def get_dominant_color_clustering(impath):\n",
    "    batman_image = img.imread(impath)\n",
    "    r = []\n",
    "    g = []\n",
    "    b = []\n",
    "    for row in batman_image:\n",
    "        for temp_r, temp_g, temp_b in row:\n",
    "            r.append(temp_r)\n",
    "            g.append(temp_g)\n",
    "            b.append(temp_b)\n",
    "\n",
    "    batman_df = pd.DataFrame({'red' : r,\n",
    "                            'green' : g,\n",
    "                            'blue' : b})\n",
    "\n",
    "    batman_df['scaled_color_red'] = whiten(batman_df['red'])\n",
    "    batman_df['scaled_color_blue'] = whiten(batman_df['blue'])\n",
    "    batman_df['scaled_color_green'] = whiten(batman_df['green'])\n",
    "\n",
    "    cluster_centers, _ = kmeans(batman_df[['scaled_color_red',\n",
    "                                        'scaled_color_blue',\n",
    "                                        'scaled_color_green']], 1)\n",
    "\n",
    "    dominant_colors = []\n",
    "\n",
    "    red_std, green_std, blue_std = batman_df[['red',\n",
    "                                            'green',\n",
    "                                            'blue']].std()\n",
    "\n",
    "    for cluster_center in cluster_centers:\n",
    "        red_scaled, green_scaled, blue_scaled = cluster_center\n",
    "        dominant_colors.append((\n",
    "            red_scaled * red_std / 255,\n",
    "            green_scaled * green_std / 255,\n",
    "            blue_scaled * blue_std / 255\n",
    "        ))\n",
    "    print(red_scaled, green_scaled, blue_scaled)\n",
    "    return dominant_colors"
   ]
  },
  {
   "cell_type": "code",
   "execution_count": 70,
   "metadata": {},
   "outputs": [
    {
     "name": "stderr",
     "output_type": "stream",
     "text": [
      "  0%|          | 0/5000 [00:02<?, ?it/s]"
     ]
    },
    {
     "name": "stdout",
     "output_type": "stream",
     "text": [
      "-0.5103770327213843 0.8127776336327075 -0.13403981011383298\n"
     ]
    },
    {
     "name": "stderr",
     "output_type": "stream",
     "text": [
      "\n"
     ]
    }
   ],
   "source": [
    "for impath in tqdm(image_paths):\n",
    "    dominant_color = get_dominant_color_clustering(impath)\n",
    "    break\n",
    "    named_color,_ = convert_rgb_to_names(dominant_color)\n",
    "    easy_color_name = color_to_name[inverted_css3[named_color]]\n",
    "    histogram_dominant_color[impath] = easy_color_name"
   ]
  },
  {
   "cell_type": "code",
   "execution_count": 71,
   "metadata": {},
   "outputs": [
    {
     "data": {
      "text/plain": [
       "[(-0.1514891189543041, 0.2730640866830943, -0.02839114544230682)]"
      ]
     },
     "execution_count": 71,
     "metadata": {},
     "output_type": "execute_result"
    }
   ],
   "source": [
    "dominant_color"
   ]
  },
  {
   "cell_type": "code",
   "execution_count": 73,
   "metadata": {},
   "outputs": [
    {
     "name": "stderr",
     "output_type": "stream",
     "text": [
      "Clipping input data to the valid range for imshow with RGB data ([0..1] for floats or [0..255] for integers).\n"
     ]
    },
    {
     "data": {
      "image/png": "[encoded data removed]",
      "text/plain": [
       "<Figure size 432x288 with 1 Axes>"
      ]
     },
     "metadata": {
      "needs_background": "light"
     },
     "output_type": "display_data"
    }
   ],
   "source": [
    "plt.imshow([dominant_color])\n",
    "plt.show()"
   ]
  },
  {
   "cell_type": "code",
   "execution_count": 43,
   "metadata": {},
   "outputs": [],
   "source": [
    "# batman_image = img.imread(impath)\n",
    "# r = []\n",
    "# g = []\n",
    "# b = []\n",
    "# for row in batman_image:\n",
    "#     for temp_r, temp_g, temp_b in row:\n",
    "#         r.append(temp_r)\n",
    "#         g.append(temp_g)\n",
    "#         b.append(temp_b)"
   ]
  },
  {
   "cell_type": "code",
   "execution_count": null,
   "metadata": {},
   "outputs": [],
   "source": [
    "with open('histogram_dominant_color.p','wb') as F:\n",
    "    pickle.dump(histogram_dom,F)"
   ]
  },
  {
   "cell_type": "code",
   "execution_count": null,
   "metadata": {},
   "outputs": [],
   "source": []
  }
 ],
 "metadata": {
  "kernelspec": {
   "display_name": "Python 3",
   "language": "python",
   "name": "python3"
  },
  "language_info": {
   "codemirror_mode": {
    "name": "ipython",
    "version": 3
   },
   "file_extension": ".py",
   "mimetype": "text/x-python",
   "name": "python",
   "nbconvert_exporter": "python",
   "pygments_lexer": "ipython3",
   "version": "3.5.6"
  }
 },
 "nbformat": 4,
 "nbformat_minor": 4
}
