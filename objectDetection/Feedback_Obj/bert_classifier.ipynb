{
 "cells": [
  {
   "cell_type": "code",
   "execution_count": 1,
   "metadata": {},
   "outputs": [],
   "source": [
    "import torch\n",
    "import pickle\n",
    "import random"
   ]
  },
  {
   "cell_type": "code",
   "execution_count": 2,
   "metadata": {},
   "outputs": [],
   "source": [
    "import transformers"
   ]
  },
  {
   "cell_type": "code",
   "execution_count": 3,
   "metadata": {},
   "outputs": [],
   "source": [
    "from sklearn.preprocessing import LabelEncoder\n",
    "from sklearn.metrics import confusion_matrix"
   ]
  },
  {
   "cell_type": "code",
   "execution_count": 5,
   "metadata": {},
   "outputs": [],
   "source": [
    "import numpy as np\n",
    "from sklearn.ensemble import RandomForestClassifier\n",
    "from sklearn.svm import SVC"
   ]
  },
  {
   "cell_type": "code",
   "execution_count": 6,
   "metadata": {},
   "outputs": [
    {
     "data": {
      "application/vnd.jupyter.widget-view+json": {
       "model_id": "7b62cf644e84491693383562fb2d3fd6",
       "version_major": 2,
       "version_minor": 0
      },
      "text/plain": [
       "Downloading:   0%|          | 0.00/48.0 [00:00<?, ?B/s]"
      ]
     },
     "metadata": {},
     "output_type": "display_data"
    },
    {
     "data": {
      "application/vnd.jupyter.widget-view+json": {
       "model_id": "79bd5eb32a3341cea8ae02af516e8205",
       "version_major": 2,
       "version_minor": 0
      },
      "text/plain": [
       "Downloading:   0%|          | 0.00/483 [00:00<?, ?B/s]"
      ]
     },
     "metadata": {},
     "output_type": "display_data"
    },
    {
     "data": {
      "application/vnd.jupyter.widget-view+json": {
       "model_id": "767e38f613164a20984fb51e1ba518f3",
       "version_major": 2,
       "version_minor": 0
      },
      "text/plain": [
       "Downloading:   0%|          | 0.00/226k [00:00<?, ?B/s]"
      ]
     },
     "metadata": {},
     "output_type": "display_data"
    },
    {
     "data": {
      "application/vnd.jupyter.widget-view+json": {
       "model_id": "4b2c881e020f4b5ba111fcfd0dafcff9",
       "version_major": 2,
       "version_minor": 0
      },
      "text/plain": [
       "Downloading:   0%|          | 0.00/455k [00:00<?, ?B/s]"
      ]
     },
     "metadata": {},
     "output_type": "display_data"
    },
    {
     "data": {
      "application/vnd.jupyter.widget-view+json": {
       "model_id": "249211fca406458bb2e2477c67f65795",
       "version_major": 2,
       "version_minor": 0
      },
      "text/plain": [
       "Downloading:   0%|          | 0.00/256M [00:00<?, ?B/s]"
      ]
     },
     "metadata": {},
     "output_type": "display_data"
    },
    {
     "name": "stderr",
     "output_type": "stream",
     "text": [
      "Some weights of the model checkpoint at distilbert-base-uncased were not used when initializing DistilBertModel: ['vocab_projector.bias', 'vocab_transform.bias', 'vocab_layer_norm.weight', 'vocab_transform.weight', 'vocab_layer_norm.bias', 'vocab_projector.weight']\n",
      "- This IS expected if you are initializing DistilBertModel from the checkpoint of a model trained on another task or with another architecture (e.g. initializing a BertForSequenceClassification model from a BertForPreTraining model).\n",
      "- This IS NOT expected if you are initializing DistilBertModel from the checkpoint of a model that you expect to be exactly identical (initializing a BertForSequenceClassification model from a BertForSequenceClassification model).\n"
     ]
    }
   ],
   "source": [
    "import torch\n",
    "from transformers import AutoTokenizer, AutoModel\n",
    "\n",
    "device = torch.device('cuda' if torch.cuda.is_available() else 'cpu')\n",
    "\n",
    "tokenizer = AutoTokenizer.from_pretrained(\"distilbert-base-uncased\")\n",
    "model = AutoModel.from_pretrained(\"distilbert-base-uncased\").to(device)"
   ]
  },
  {
   "cell_type": "code",
   "execution_count": 8,
   "metadata": {},
   "outputs": [],
   "source": [
    "def read_data(allowed_algorithms = ['azure','rekognition','detectron','google']):\n",
    "    with open('multi_label_compiled_with_humans.p','rb') as F:\n",
    "        multi_label_compiled_with_humans = pickle.load(F)\n",
    "    print(multi_label_compiled_with_humans)\n",
    "    human_data = []\n",
    "    ai_data = []\n",
    "    data_images = []\n",
    "    for key in multi_label_compiled_with_humans.keys():\n",
    "        data_images.append(key)\n",
    "        data = multi_label_compiled_with_humans[key]\n",
    "        human_data.append(' '.join(data['humans'][0]))\n",
    "        \n",
    "        for algo in allowed_algorithms:\n",
    "            ai_data.append(' '.join(data[algo]))\n",
    "    return human_data, ai_data, data_images"
   ]
  },
  {
   "cell_type": "code",
   "execution_count": 302,
   "metadata": {},
   "outputs": [],
   "source": [
    "def embed_data(human_data, ai_data):\n",
    "    ids = list(range(len(human_data)))\n",
    "    cutoff_id = int(0.9*len(ids))\n",
    "    random.shuffle(ids)\n",
    "    sentences_train = {}\n",
    "    sentences_val = {}\n",
    "  \n",
    "\n",
    "    for train_id in ids[:cutoff_id]:\n",
    "        data = human_data[train_id]\n",
    "        sentences_train[data] = 0\n",
    "        ai_data_ = ai_data[train_id]\n",
    "        if ai_data_ in sentences_val.keys():\n",
    "            ai_data_ = 'NA'%ai_data_\n",
    "        sentences_train[ai_data_] = 1\n",
    "        \n",
    "        \n",
    "    print(len(sentences_val.keys()))\n",
    "    for test_id in ids[cutoff_id:]:\n",
    "        data = human_data[test_id]\n",
    "        sentences_val[data] = 0\n",
    "        ai_data_ = ai_data[test_id]\n",
    "        if ai_data_ in sentences_val.keys():\n",
    "            print(ai_data_)\n",
    "            ai_data_ =  '%s_%s'%(ai_data_,test_id)\n",
    "        sentences_val[ai_data_] = 1\n",
    "    print(len(sentences_val.keys()))\n",
    "\n",
    "        \n",
    "    tokenized_train = tokenizer(list(sentences_train.keys()), padding = True, truncation = True, return_tensors=\"pt\")\n",
    "    tokenized_val = tokenizer(list(sentences_val.keys()) , padding = True, truncation = True,  return_tensors=\"pt\")\n",
    "    \n",
    "\n",
    "    #move on device (GPU)\n",
    "    tokenized_train = {k:torch.tensor(v).to(device) for k,v in tokenized_train.items()}\n",
    "    tokenized_val = {k:torch.tensor(v).to(device) for k,v in tokenized_val.items()}\n",
    "    \n",
    "    LE = LabelEncoder()\n",
    "    labels_train = LE.fit_transform(list(sentences_train.values()))\n",
    "    labels_val = LE.fit_transform(list(sentences_val.values()))\n",
    "    \n",
    "    with torch.no_grad():\n",
    "        hidden_train = model(**tokenized_train) #dim : [batch_size(nr_sentences), tokens, emb_dim]\n",
    "        hidden_val = model(**tokenized_val)\n",
    "\n",
    "    #get only the [CLS] hidden states\n",
    "    cls_train = hidden_train.last_hidden_state[:,0,:]\n",
    "    cls_val = hidden_val.last_hidden_state[:,0,:]\n",
    "    \n",
    "    x_train = cls_train.to(\"cpu\")\n",
    "    y_train = labels_train\n",
    "\n",
    "    x_val = cls_val.to(\"cpu\")\n",
    "    y_val = labels_val\n",
    "    \n",
    "    \n",
    "    # Randomize test data\n",
    "#     temp = list(zip(x_val, y_val))\n",
    "#     random.shuffle(temp)\n",
    "#     x_val, y_val = zip(*temp)\n",
    "#     x_val, y_val = list(x_val), list(y_val)\n",
    "\n",
    "#     y_val = np.array(y_val)\n",
    "#     x_val = torch.vstack(x_val)\n",
    "    \n",
    "    return x_train, y_train, x_val, y_val, ids"
   ]
  },
  {
   "cell_type": "code",
   "execution_count": 303,
   "metadata": {},
   "outputs": [],
   "source": [
    "def classify_and_score(algo = 'SVM'):\n",
    "    if algo == 'RF':\n",
    "        rf = RandomForestClassifier()\n",
    "        rf.fit(x_train,y_train)\n",
    "        predictions = rf.predict(x_val)\n",
    "        score = rf.score(x_val,y_val) \n",
    "    elif algo == 'SVM':\n",
    "        svm = SVC()\n",
    "        svm.fit(x_train,y_train)\n",
    "        predictions = svm.predict(x_val)\n",
    "        score = svm.score(x_val,y_val) \n",
    "        \n",
    "    conf_mat = confusion_matrix(y_val, predictions,normalize='true')\n",
    "    return conf_mat, score, predictions"
   ]
  },
  {
   "cell_type": "code",
   "execution_count": 304,
   "metadata": {},
   "outputs": [],
   "source": [
    "all_accuracies_M = {}"
   ]
  },
  {
   "cell_type": "markdown",
   "metadata": {},
   "source": [
    "# All Combined"
   ]
  },
  {
   "cell_type": "code",
   "execution_count": 344,
   "metadata": {},
   "outputs": [],
   "source": [
    "all_accuracies_M['all'] = {}"
   ]
  },
  {
   "cell_type": "code",
   "execution_count": 345,
   "metadata": {},
   "outputs": [],
   "source": [
    "result_conf_mat = np.zeros((6,2))"
   ]
  },
  {
   "cell_type": "code",
   "execution_count": 346,
   "metadata": {},
   "outputs": [],
   "source": [
    "human_data, ai_data,data_images = read_data()"
   ]
  },
  {
   "cell_type": "code",
   "execution_count": 347,
   "metadata": {},
   "outputs": [],
   "source": [
    "ai_data_sampled = []\n",
    "for i in range(0,len(ai_data),4):\n",
    "    random_offset = random.choice([0,1,2,3])\n",
    "    ai_data_sampled.append(ai_data[i+random_offset])"
   ]
  },
  {
   "cell_type": "code",
   "execution_count": 348,
   "metadata": {},
   "outputs": [
    {
     "name": "stdout",
     "output_type": "stream",
     "text": [
      "0\n",
      "Person Human Clothing\n",
      "Room Indoors Toilet\n",
      "162\n"
     ]
    },
    {
     "name": "stderr",
     "output_type": "stream",
     "text": [
      "/tmp/ipykernel_30789/4140100945.py:35: UserWarning: To copy construct from a tensor, it is recommended to use sourceTensor.clone().detach() or sourceTensor.clone().detach().requires_grad_(True), rather than torch.tensor(sourceTensor).\n",
      "  tokenized_train = {k:torch.tensor(v).to(device) for k,v in tokenized_train.items()}\n",
      "/tmp/ipykernel_30789/4140100945.py:36: UserWarning: To copy construct from a tensor, it is recommended to use sourceTensor.clone().detach() or sourceTensor.clone().detach().requires_grad_(True), rather than torch.tensor(sourceTensor).\n",
      "  tokenized_val = {k:torch.tensor(v).to(device) for k,v in tokenized_val.items()}\n"
     ]
    }
   ],
   "source": [
    "x_train,y_train,x_val,y_val,ids = embed_data(human_data, ai_data_sampled)"
   ]
  },
  {
   "cell_type": "code",
   "execution_count": 349,
   "metadata": {},
   "outputs": [],
   "source": [
    "svm_conf, svm_score,predictions = classify_and_score('SVM')"
   ]
  },
  {
   "cell_type": "code",
   "execution_count": 350,
   "metadata": {},
   "outputs": [],
   "source": [
    "cutoff_id = int(0.9*len(ids))\n",
    "test_images = []\n",
    "for test_id in ids[cutoff_id:]:\n",
    "    test_image = data_images[test_id]\n",
    "    test_images.append(test_image)"
   ]
  },
  {
   "cell_type": "code",
   "execution_count": 351,
   "metadata": {},
   "outputs": [],
   "source": [
    "for im_ct in range(len(test_images)):\n",
    "    test_image = test_images[im_ct]\n",
    "    pred_1 = predictions[im_ct]\n",
    "    gt_1 = y_val[im_ct]\n",
    "    \n",
    "    pred_2 = predictions[im_ct + 81]\n",
    "    gt_2 = y_val[im_ct + 81]\n",
    "    all_accuracies_M['all'][test_image] = [pred_1 == gt_1]\n",
    "    all_accuracies_M['all'][test_image].append(pred_2 == gt_2)"
   ]
  },
  {
   "cell_type": "code",
   "execution_count": 352,
   "metadata": {},
   "outputs": [],
   "source": [
    "result_conf_mat[0] = svm_conf[0]\n",
    "result_conf_mat[1] = svm_conf[1]"
   ]
  },
  {
   "cell_type": "markdown",
   "metadata": {},
   "source": [
    "# Humans vs Azure"
   ]
  },
  {
   "cell_type": "code",
   "execution_count": 353,
   "metadata": {},
   "outputs": [],
   "source": [
    "all_accuracies_M['azure'] = {}"
   ]
  },
  {
   "cell_type": "code",
   "execution_count": 355,
   "metadata": {},
   "outputs": [
    {
     "name": "stdout",
     "output_type": "stream",
     "text": [
      "0\n",
      "animal mammal outdoor\n",
      "person clothing human face\n",
      "person outdoor clothing\n",
      "162\n"
     ]
    },
    {
     "name": "stderr",
     "output_type": "stream",
     "text": [
      "/tmp/ipykernel_30789/4140100945.py:35: UserWarning: To copy construct from a tensor, it is recommended to use sourceTensor.clone().detach() or sourceTensor.clone().detach().requires_grad_(True), rather than torch.tensor(sourceTensor).\n",
      "  tokenized_train = {k:torch.tensor(v).to(device) for k,v in tokenized_train.items()}\n",
      "/tmp/ipykernel_30789/4140100945.py:36: UserWarning: To copy construct from a tensor, it is recommended to use sourceTensor.clone().detach() or sourceTensor.clone().detach().requires_grad_(True), rather than torch.tensor(sourceTensor).\n",
      "  tokenized_val = {k:torch.tensor(v).to(device) for k,v in tokenized_val.items()}\n"
     ]
    }
   ],
   "source": [
    "human_data, ai_data,data_images = read_data(['azure'])\n",
    "x_train,y_train,x_val,y_val,ids = embed_data(human_data, ai_data)\n",
    "svm_conf, svm_score,predictions = classify_and_score('SVM')"
   ]
  },
  {
   "cell_type": "code",
   "execution_count": 356,
   "metadata": {},
   "outputs": [
    {
     "data": {
      "text/plain": [
       "0.9135802469135802"
      ]
     },
     "execution_count": 356,
     "metadata": {},
     "output_type": "execute_result"
    }
   ],
   "source": [
    "svm_score"
   ]
  },
  {
   "cell_type": "code",
   "execution_count": 357,
   "metadata": {},
   "outputs": [],
   "source": [
    "cutoff_id = int(0.9*len(ids))\n",
    "test_images = []\n",
    "for test_id in ids[cutoff_id:]:\n",
    "    test_image = data_images[test_id]\n",
    "    test_images.append(test_image)\n",
    "\n",
    "for im_ct in range(len(test_images)):\n",
    "    test_image = test_images[im_ct]\n",
    "    pred_1 = predictions[im_ct]\n",
    "    gt_1 = y_val[im_ct]\n",
    "    \n",
    "    pred_2 = predictions[im_ct + 81]\n",
    "    gt_2 = y_val[im_ct + 81]\n",
    "    all_accuracies_M['azure'][test_image] = [pred_1 == gt_1]\n",
    "    all_accuracies_M['azure'][test_image].append(pred_2 == gt_2)"
   ]
  },
  {
   "cell_type": "code",
   "execution_count": 359,
   "metadata": {},
   "outputs": [
    {
     "data": {
      "text/plain": [
       "0.9135802469135802"
      ]
     },
     "execution_count": 359,
     "metadata": {},
     "output_type": "execute_result"
    }
   ],
   "source": [
    "svm_score"
   ]
  },
  {
   "cell_type": "code",
   "execution_count": 360,
   "metadata": {},
   "outputs": [],
   "source": [
    "result_conf_mat[2] = svm_conf[1]"
   ]
  },
  {
   "cell_type": "markdown",
   "metadata": {},
   "source": [
    "# Humans vs Detectron"
   ]
  },
  {
   "cell_type": "code",
   "execution_count": 361,
   "metadata": {},
   "outputs": [],
   "source": [
    "all_accuracies_M['detectron'] = {}"
   ]
  },
  {
   "cell_type": "code",
   "execution_count": 362,
   "metadata": {},
   "outputs": [
    {
     "name": "stdout",
     "output_type": "stream",
     "text": [
      "0\n",
      "person kite\n",
      "train\n",
      "car bus person\n",
      "zebra\n",
      "162\n"
     ]
    },
    {
     "name": "stderr",
     "output_type": "stream",
     "text": [
      "/tmp/ipykernel_30789/4140100945.py:35: UserWarning: To copy construct from a tensor, it is recommended to use sourceTensor.clone().detach() or sourceTensor.clone().detach().requires_grad_(True), rather than torch.tensor(sourceTensor).\n",
      "  tokenized_train = {k:torch.tensor(v).to(device) for k,v in tokenized_train.items()}\n",
      "/tmp/ipykernel_30789/4140100945.py:36: UserWarning: To copy construct from a tensor, it is recommended to use sourceTensor.clone().detach() or sourceTensor.clone().detach().requires_grad_(True), rather than torch.tensor(sourceTensor).\n",
      "  tokenized_val = {k:torch.tensor(v).to(device) for k,v in tokenized_val.items()}\n"
     ]
    }
   ],
   "source": [
    "human_data, ai_data,data_images = read_data(['detectron'])\n",
    "x_train,y_train,x_val,y_val,ids = embed_data(human_data, ai_data)\n",
    "svm_conf, svm_score,predictions = classify_and_score('SVM')\n",
    "# print('RF accuracy:%s'%rf_score)\n",
    "# print('RF confusion:%s'%rf_conf)\n",
    "\n",
    "result_conf_mat[3] = svm_conf[1]"
   ]
  },
  {
   "cell_type": "code",
   "execution_count": 363,
   "metadata": {},
   "outputs": [],
   "source": [
    "cutoff_id = int(0.9*len(ids))\n",
    "test_images = []\n",
    "for test_id in ids[cutoff_id:]:\n",
    "    test_image = data_images[test_id]\n",
    "    test_images.append(test_image)\n",
    "\n",
    "for im_ct in range(len(test_images)):\n",
    "    test_image = test_images[im_ct]\n",
    "    pred_1 = predictions[im_ct]\n",
    "    gt_1 = y_val[im_ct]\n",
    "    \n",
    "    pred_2 = predictions[im_ct + 81]\n",
    "    gt_2 = y_val[im_ct + 81]\n",
    "    all_accuracies_M['detectron'][test_image] = [pred_1 == gt_1]\n",
    "    all_accuracies_M['detectron'][test_image].append(pred_2 == gt_2)"
   ]
  },
  {
   "cell_type": "markdown",
   "metadata": {},
   "source": [
    "# Humans vs Google"
   ]
  },
  {
   "cell_type": "code",
   "execution_count": 366,
   "metadata": {},
   "outputs": [],
   "source": [
    "all_accuracies_M['google'] = {}"
   ]
  },
  {
   "cell_type": "code",
   "execution_count": 364,
   "metadata": {},
   "outputs": [
    {
     "name": "stdout",
     "output_type": "stream",
     "text": [
      "0\n",
      "Food Tableware Plate\n",
      "Food Ingredient Recipe\n",
      "162\n"
     ]
    },
    {
     "name": "stderr",
     "output_type": "stream",
     "text": [
      "/tmp/ipykernel_30789/4140100945.py:35: UserWarning: To copy construct from a tensor, it is recommended to use sourceTensor.clone().detach() or sourceTensor.clone().detach().requires_grad_(True), rather than torch.tensor(sourceTensor).\n",
      "  tokenized_train = {k:torch.tensor(v).to(device) for k,v in tokenized_train.items()}\n",
      "/tmp/ipykernel_30789/4140100945.py:36: UserWarning: To copy construct from a tensor, it is recommended to use sourceTensor.clone().detach() or sourceTensor.clone().detach().requires_grad_(True), rather than torch.tensor(sourceTensor).\n",
      "  tokenized_val = {k:torch.tensor(v).to(device) for k,v in tokenized_val.items()}\n"
     ]
    }
   ],
   "source": [
    "human_data, ai_data, data_images = read_data(['google'])\n",
    "x_train,y_train,x_val,y_val,ids = embed_data(human_data, ai_data)\n",
    "svm_conf, svm_score,predictions = classify_and_score('SVM')\n",
    "# print('RF accuracy:%s'%rf_score)\n",
    "# print('RF confusion:%s'%rf_conf)\n",
    "\n",
    "result_conf_mat[4] = svm_conf[1]"
   ]
  },
  {
   "cell_type": "code",
   "execution_count": 367,
   "metadata": {},
   "outputs": [],
   "source": [
    "cutoff_id = int(0.9*len(ids))\n",
    "test_images = []\n",
    "for test_id in ids[cutoff_id:]:\n",
    "    test_image = data_images[test_id]\n",
    "    test_images.append(test_image)\n",
    "\n",
    "for im_ct in range(len(test_images)):\n",
    "    test_image = test_images[im_ct]\n",
    "    pred_1 = predictions[im_ct]\n",
    "    gt_1 = y_val[im_ct]\n",
    "    \n",
    "    pred_2 = predictions[im_ct + 81]\n",
    "    gt_2 = y_val[im_ct + 81]\n",
    "    all_accuracies_M['google'][test_image] = [pred_1 == gt_1]\n",
    "    all_accuracies_M['google'][test_image].append(pred_2 == gt_2)"
   ]
  },
  {
   "cell_type": "markdown",
   "metadata": {},
   "source": [
    "# Humans vs Rekognition"
   ]
  },
  {
   "cell_type": "code",
   "execution_count": 368,
   "metadata": {},
   "outputs": [],
   "source": [
    "all_accuracies_M['rekognition'] = {}all_accuracies_M"
   ]
  },
  {
   "cell_type": "code",
   "execution_count": 369,
   "metadata": {},
   "outputs": [
    {
     "name": "stdout",
     "output_type": "stream",
     "text": [
      "0\n",
      "Person Human Tennis\n",
      "Bus Vehicle Transportation\n",
      "Person Human Skateboard\n",
      "Person Human Tennis Racket\n",
      "Person Human Skateboard\n",
      "Person Human Skateboard\n",
      "Person Human Truck\n",
      "Plant Vegetable Food\n",
      "Person Human Tennis\n",
      "162\n"
     ]
    },
    {
     "name": "stderr",
     "output_type": "stream",
     "text": [
      "/tmp/ipykernel_30789/4140100945.py:35: UserWarning: To copy construct from a tensor, it is recommended to use sourceTensor.clone().detach() or sourceTensor.clone().detach().requires_grad_(True), rather than torch.tensor(sourceTensor).\n",
      "  tokenized_train = {k:torch.tensor(v).to(device) for k,v in tokenized_train.items()}\n",
      "/tmp/ipykernel_30789/4140100945.py:36: UserWarning: To copy construct from a tensor, it is recommended to use sourceTensor.clone().detach() or sourceTensor.clone().detach().requires_grad_(True), rather than torch.tensor(sourceTensor).\n",
      "  tokenized_val = {k:torch.tensor(v).to(device) for k,v in tokenized_val.items()}\n"
     ]
    }
   ],
   "source": [
    "human_data, ai_data,data_images = read_data(['rekognition'])\n",
    "x_train,y_train,x_val,y_val,ids = embed_data(human_data, ai_data)\n",
    "svm_conf, svm_score,predictions = classify_and_score('SVM')\n",
    "# print('RF accuracy:%s'%rf_score)\n",
    "# print('RF confusion:%s'%rf_conf)\n",
    "\n",
    "result_conf_mat[5] = svm_conf[1]"
   ]
  },
  {
   "cell_type": "code",
   "execution_count": 370,
   "metadata": {},
   "outputs": [],
   "source": [
    "cutoff_id = int(0.9*len(ids))\n",
    "test_images = []\n",
    "for test_id in ids[cutoff_id:]:\n",
    "    test_image = data_images[test_id]\n",
    "    test_images.append(test_image)\n",
    "\n",
    "for im_ct in range(len(test_images)):\n",
    "    test_image = test_images[im_ct]\n",
    "    pred_1 = predictions[im_ct]\n",
    "    gt_1 = y_val[im_ct]\n",
    "    \n",
    "    pred_2 = predictions[im_ct + 81]\n",
    "    gt_2 = y_val[im_ct + 81]\n",
    "    all_accuracies_M['rekognition'][test_image] = [pred_1 == gt_1]\n",
    "    all_accuracies_M['rekognition'][test_image].append(pred_2 == gt_2)"
   ]
  },
  {
   "cell_type": "code",
   "execution_count": null,
   "metadata": {},
   "outputs": [],
   "source": [
    "# import pickle\n",
    "# with open('all_machine_data.p','wb') as F:\n",
    "#     pickle.dump(all_accuracies_M,F)"
   ]
  },
  {
   "cell_type": "code",
   "execution_count": 372,
   "metadata": {},
   "outputs": [
    {
     "data": {
      "image/png": "[encoded data removed]",
      "text/plain": [
       "<Figure size 86.4x252 with 2 Axes>"
      ]
     },
     "metadata": {
      "needs_background": "light"
     },
     "output_type": "display_data"
    }
   ],
   "source": [
    "modelist = ['Azure','Detectron','Google','Rekognition']\n",
    "\n",
    "plotname = 'mutli_label_recognition'\n",
    "\n",
    "import os\n",
    "os.makedirs('figures',exist_ok=True)\n",
    "\n",
    "#plot confusion matrix\n",
    "import seaborn as sn\n",
    "import pandas as pd\n",
    "import matplotlib.pyplot as plt\n",
    "\n",
    "df_cm = pd.DataFrame(result_conf_mat, index = [i for i in ['Human','AI']+modelist],\n",
    "                  columns = [i for i in ['Human','AI']])\n",
    "plt.figure(figsize = (1.2,3.5))\n",
    "sn.heatmap(df_cm, annot=True,robust=True, cmap='RdBu_r', vmin=0, vmax=1)\n",
    "plt.xlabel(\"Predicted\")\n",
    "plt.ylabel(\"Ground Truth\")\n",
    "\n",
    "plt.savefig('figures/' + plotname + '_bert_confmat.pdf', bbox_inches='tight')\n",
    "plt.show()"
   ]
  },
  {
   "cell_type": "markdown",
   "metadata": {},
   "source": [
    "# STD calculation"
   ]
  },
  {
   "cell_type": "code",
   "execution_count": 391,
   "metadata": {},
   "outputs": [],
   "source": [
    "def boostrap(data1, data2):\n",
    "    import random\n",
    "    import math\n",
    "    store = []\n",
    "    sample_mean = []\n",
    "    if len(data1) < len(data2):\n",
    "        SampleTimes = math.ceil(len(data1)/2)\n",
    "        BootstrapTimes = len(data1)\n",
    "    else:\n",
    "        SampleTimes = math.ceil(len(data2)/2)\n",
    "        BootstrapTimes = len(data2)\n",
    "        \n",
    "    #print(BootstrapTimes)        \n",
    "    for i in range(BootstrapTimes):\n",
    "        y1 = random.sample(data1, SampleTimes)\n",
    "        #print(y1)\n",
    "        y2 = random.sample(data2, SampleTimes)\n",
    "        #print(y2)\n",
    "        y_comb = y1+y2\n",
    "        #print(y_comb)\n",
    "        sample_mean.append(np.mean(np.array(y_comb), axis=0))\n",
    "    \n",
    "    stdval = np.std(np.array(sample_mean), axis=0)\n",
    "    return stdval"
   ]
  },
  {
   "cell_type": "code",
   "execution_count": 392,
   "metadata": {},
   "outputs": [],
   "source": [
    "all_stds = []\n",
    "for split in ['all','azure','detectron','google','rekognition']:\n",
    "    data_1 = []\n",
    "    data_2 = []\n",
    "    for im in all_accuracies_M[split].keys():\n",
    "        if all_accuracies_M[split][im][0] == True:\n",
    "            data_1.append(1)\n",
    "        else:\n",
    "            data_1.append(0)\n",
    "\n",
    "        if all_accuracies_M[split][im][1] == True:\n",
    "            data_2.append(1)\n",
    "        else:\n",
    "            data_2.append(0)\n",
    "    stdval = boostrap(data_1,data_2)\n",
    "    all_stds.append(stdval)"
   ]
  },
  {
   "cell_type": "code",
   "execution_count": 394,
   "metadata": {},
   "outputs": [],
   "source": [
    "# all_stds"
   ]
  },
  {
   "cell_type": "code",
   "execution_count": 395,
   "metadata": {},
   "outputs": [
    {
     "data": {
      "text/plain": [
       "['Azure', 'Detectron', 'Google', 'Rekognition']"
      ]
     },
     "execution_count": 395,
     "metadata": {},
     "output_type": "execute_result"
    }
   ],
   "source": [
    "modelist"
   ]
  },
  {
   "cell_type": "code",
   "execution_count": 398,
   "metadata": {},
   "outputs": [],
   "source": [
    "# plotname"
   ]
  },
  {
   "cell_type": "code",
   "execution_count": 399,
   "metadata": {},
   "outputs": [
    {
     "name": "stderr",
     "output_type": "stream",
     "text": [
      "No handles with labels found to put in legend.\n"
     ]
    },
    {
     "name": "stdout",
     "output_type": "stream",
     "text": [
      "[[0.88888889 0.11111111]\n",
      " [0.18518519 0.81481481]\n",
      " [0.13580247 0.86419753]\n",
      " [0.28395062 0.71604938]\n",
      " [0.19753086 0.80246914]\n",
      " [0.25925926 0.74074074]]\n",
      "[0.8518518518518519, 0.8765432098765431, 0.8024691358024691, 0.845679012345679, 0.8148148148148148]\n"
     ]
    },
    {
     "data": {
      "image/png": "[encoded data removed]",
      "text/plain": [
       "<Figure size 180x360 with 1 Axes>"
      ]
     },
     "metadata": {
      "needs_background": "light"
     },
     "output_type": "display_data"
    }
   ],
   "source": [
    "#compute top 1 accuracy for each AI model and also overall AI\n",
    "top1 = []\n",
    "print(result_conf_mat)\n",
    "for i in range(1+len(modelist)):\n",
    "    #print(i)\n",
    "    top1.append((result_conf_mat[0][0]+result_conf_mat[i+1][1])/2)\n",
    "print(top1)\n",
    "\n",
    "import matplotlib.pyplot as plt\n",
    "import numpy as np\n",
    " \n",
    "#data\n",
    "#x-axis\n",
    "years = list(range(1, 2+len(modelist)))\n",
    "strtask = ['AI'] + modelist\n",
    "#print(years)\n",
    "#print(strtask)\n",
    "\n",
    "# Figure Size\n",
    "fig, ax = plt.subplots()\n",
    "\n",
    "from matplotlib.patches import Rectangle\n",
    "ax.add_patch(Rectangle((-0.5, 0.45), len(top1), 0.1,facecolor='yellow'))\n",
    "\n",
    "#bar chart properties\n",
    "# ax.bar(strtask, top1, color ='black', width = 0.3)\n",
    "ax.bar(strtask, top1, yerr=all_stds,\n",
    "       align='center', alpha=0.5, ecolor='black', capsize=10,\n",
    "       color ='black', width = 0.3)\n",
    "\n",
    "plt.ylabel('Top-1 Accuracy')\n",
    "plt.xticks(rotation = 90) # Rotates X-Axis Ticks by 45-degrees\n",
    "\n",
    "plt.ylim(0.3, 1)\n",
    "#plt.xlim(0.5, len(years)+0.5)\n",
    "\n",
    "#draw chance 0.5 \n",
    "# chancex =np.arange(len(years))\n",
    "# plt.plot(chancex, np.arange(len(chancex))*0+0.5, 'k--', label='chance (50%)')\n",
    "#plt.legend()\n",
    " \n",
    "fig.tight_layout()\n",
    "\n",
    "fig.set_figwidth(2.5)\n",
    "fig.set_figheight(5)\n",
    "\n",
    "fig.legend(loc='upper center', bbox_to_anchor=(0.55, 1.0), ncol=3, fancybox=True, shadow=True,frameon=False)\n",
    "\n",
    "ax.spines['top'].set_visible(False)\n",
    "ax.spines['right'].set_visible(False)\n",
    "\n",
    "plt.show()\n",
    "fig.savefig('figures/' + plotname + '_bert.pdf', bbox_inches='tight')"
   ]
  }
 ],
 "metadata": {
  "kernelspec": {
   "display_name": "Python 3 (ipykernel)",
   "language": "python",
   "name": "python3"
  },
  "language_info": {
   "codemirror_mode": {
    "name": "ipython",
    "version": 3
   },
   "file_extension": ".py",
   "mimetype": "text/x-python",
   "name": "python",
   "nbconvert_exporter": "python",
   "pygments_lexer": "ipython3",
   "version": "3.8.13"
  }
 },
 "nbformat": 4,
 "nbformat_minor": 4
}
