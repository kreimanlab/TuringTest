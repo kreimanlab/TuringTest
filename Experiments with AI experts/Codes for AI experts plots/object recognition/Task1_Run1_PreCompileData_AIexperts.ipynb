{
 "cells": [
  {
   "cell_type": "code",
   "execution_count": 1,
   "id": "adaa4b17",
   "metadata": {},
   "outputs": [],
   "source": [
    "import csv\n",
    "import json\n",
    "import sqlite3\n",
    "\n",
    "results = {'inlab':[], 'inlab_gender':[], 'inlab_nogender':[], 'mturk':[], 'machine':[], 'combined':[]}\n",
    "results = {'mturk':[]}\n",
    "results = {'AIexperts':[]}\n",
    "\n",
    "############# for jason file processing\n",
    "jsonpath = './Data_all/'\n",
    "#filenames = {'inlab': ['turing_test_img_caption_inlab_gender_15','turing_test_img_caption_inlab_no_gender_15'],\n",
    "#             'inlab_gender': ['turing_test_img_caption_inlab_gender_15'],\n",
    "#             'inlab_nogender': ['turing_test_img_caption_inlab_no_gender_15'],\n",
    "#             'mturk':['turing_live']}\n",
    "filenames = {'AIexperts':['turing_live_may4']}\n",
    "\n",
    "#Images 1-250 are from COCO test set, \n",
    "# images 251-500 are nocaps val in-domain, \n",
    "# images 501-750 are nocaps val near-domain, \n",
    "# images 751-1000 are nocaps val out-domain\n"
   ]
  },
  {
   "cell_type": "code",
   "execution_count": 2,
   "id": "85813422",
   "metadata": {},
   "outputs": [
    {
     "ename": "NameError",
     "evalue": "name 'all_data' is not defined",
     "output_type": "error",
     "traceback": [
      "\u001b[0;31m---------------------------------------------------------------------------\u001b[0m",
      "\u001b[0;31mNameError\u001b[0m                                 Traceback (most recent call last)",
      "\u001b[0;32m/var/folders/5y/60d837ps00s6_lbr07dlqtwh0000gn/T/ipykernel_25931/2151852694.py\u001b[0m in \u001b[0;36m<module>\u001b[0;34m\u001b[0m\n\u001b[0;32m----> 1\u001b[0;31m \u001b[0mjson\u001b[0m\u001b[0;34m.\u001b[0m\u001b[0mloads\u001b[0m\u001b[0;34m(\u001b[0m\u001b[0mall_data\u001b[0m\u001b[0;34m[\u001b[0m\u001b[0;36m2\u001b[0m\u001b[0;34m]\u001b[0m\u001b[0;34m[\u001b[0m\u001b[0;36m17\u001b[0m\u001b[0;34m]\u001b[0m\u001b[0;34m)\u001b[0m\u001b[0;34m[\u001b[0m\u001b[0;34m'data'\u001b[0m\u001b[0;34m]\u001b[0m\u001b[0;34m[\u001b[0m\u001b[0;36m2\u001b[0m\u001b[0;34m]\u001b[0m\u001b[0;34m\u001b[0m\u001b[0;34m\u001b[0m\u001b[0m\n\u001b[0m",
      "\u001b[0;31mNameError\u001b[0m: name 'all_data' is not defined"
     ]
    }
   ],
   "source": [
    "json.loads(all_data[2][17])['data'][2]"
   ]
  },
  {
   "cell_type": "code",
   "execution_count": null,
   "id": "3fa0be66",
   "metadata": {},
   "outputs": [],
   "source": [
    "len(trials_dict.keys())"
   ]
  },
  {
   "cell_type": "code",
   "execution_count": 3,
   "id": "b15a7709",
   "metadata": {},
   "outputs": [
    {
     "name": "stdout",
     "output_type": "stream",
     "text": [
      "=======================\n",
      "AIexperts\n",
      "11  workers\n",
      "Compilation completed! Results are saved to folder!\n"
     ]
    }
   ],
   "source": [
    "for key in filenames:\n",
    "    print(\"=======================\")\n",
    "    print(key)\n",
    "\n",
    "    count = 0\n",
    "    trials_dict = {}\n",
    "    workercount = 0\n",
    "    \n",
    "    for dbfilename in filenames[key]:\n",
    "        #print(\"=======================\")\n",
    "        #print(jasonfilename)\n",
    "        conn = sqlite3.connect(jsonpath + dbfilename + \".db\")\n",
    "        cursor = conn.cursor()\n",
    "        cursor.execute(\"select * from imgcaption;\")        \n",
    "        all_data = cursor.fetchall()\n",
    "\n",
    "        for i in range(0, len(all_data)):\n",
    "            if (all_data[i][15] == 3): #Elisa: in sandbox, this is 3   or (all_data[i][15] == 5): #check status \n",
    "                data_dict = json.loads(all_data[i][17])\n",
    "                workercount += 1\n",
    "                for dat in data_dict['data']:\n",
    "                    if dat['trialdata']['phase'] == 'TEST':\n",
    "                        \n",
    "                        count += 1\n",
    "                        trial_data = {}\n",
    "                        trial_data['workerID'] = data_dict['workerId']\n",
    "                        trial_data['workerData'] = data_dict['questiondata']\n",
    "                        trial_data['trialData'] = dat['trialdata']\n",
    "                        \n",
    "                        imagepathname_id = int(trial_data['trialData']['imageID'][-8:-4])\n",
    "                    \n",
    "                        if imagepathname_id<= 250:\n",
    "                            trial_data['workerData']['imagetype'] = 'COCO'\n",
    "                        elif imagepathname_id<= 500:\n",
    "                            trial_data['workerData']['imagetype'] = 'in-domain'\n",
    "                        elif imagepathname_id<= 750:\n",
    "                            trial_data['workerData']['imagetype'] = 'near-domain'\n",
    "                        else:\n",
    "                            trial_data['workerData']['imagetype'] = 'out-domain'\n",
    "                        \n",
    "                        \n",
    "                        # Get rid of typo in the key in db file\n",
    "                        if 'ai_grountruth' in list(trial_data['trialData'].keys()):\n",
    "                            trial_data['trialData']['machine_groundtruth'] = trial_data['trialData']['ai_grountruth']\n",
    "                            del trial_data['trialData']['ai_grountruth']\n",
    "\n",
    "                        # Get rid of typo in the key in db file\n",
    "                        if trial_data['trialData']['response_speaker'] == 'ai':\n",
    "                            trial_data['trialData']['response_speaker'] = 'machine'\n",
    "\n",
    "                        trials_dict['Trial_'+str(count)] = trial_data\n",
    "\n",
    "                \n",
    "        conn.close()\n",
    "        results[key] = trials_dict\n",
    "        #json.dump(trials_dict, open(\"./turing_inlab_no_gender_img_caption_half.json\",\"w\"))\n",
    "    print(workercount, ' workers')\n",
    "\n",
    "########### AI jason files\n",
    "# json_file_path = './Data_all/ai_judge_curie_all_seed.json'\n",
    "\n",
    "# with open(json_file_path, 'r') as j:\n",
    "#      contents = json.loads(j.read())\n",
    "# results['machine'] = contents\n",
    "# #print(contents)\n",
    "\n",
    "# #save combined results\n",
    "# count = 0\n",
    "# trials_dict = {}\n",
    "# for ke in ['mturk']:  #ke in ['inlab','mturk']:\n",
    "#     for it in results[ke]:\n",
    "#         count = count + 1\n",
    "#         trialin = results[ke][it]\n",
    "#         trials_dict['Trial_'+str(count)] = trialin\n",
    "        \n",
    "# results['combined'] = trials_dict\n",
    "\n",
    "# print('All data is extracted.')\n",
    "# for key in results:\n",
    "#     print(key)\n",
    "#     print('There are [' + str(len(results[key])) + ']')\n",
    "    \n",
    "#save the compiled results as jason\n",
    "with open(\"./savedResults_elisa/compiled_AIexperts_may4.json\", \"w\") as fp:\n",
    "    json.dump(results,fp) \n",
    "    \n",
    "print('Compilation completed! Results are saved to folder!')"
   ]
  },
  {
   "cell_type": "code",
   "execution_count": 4,
   "id": "03fb2e5a",
   "metadata": {},
   "outputs": [
    {
     "ename": "KeyError",
     "evalue": "'mturk'",
     "output_type": "error",
     "traceback": [
      "\u001b[0;31m---------------------------------------------------------------------------\u001b[0m",
      "\u001b[0;31mKeyError\u001b[0m                                  Traceback (most recent call last)",
      "\u001b[0;32m/var/folders/5y/60d837ps00s6_lbr07dlqtwh0000gn/T/ipykernel_25931/2723986933.py\u001b[0m in \u001b[0;36m<module>\u001b[0;34m\u001b[0m\n\u001b[0;32m----> 1\u001b[0;31m \u001b[0mresults\u001b[0m\u001b[0;34m[\u001b[0m\u001b[0;34m'mturk'\u001b[0m\u001b[0;34m]\u001b[0m\u001b[0;34m[\u001b[0m\u001b[0;34m'Trial_1'\u001b[0m\u001b[0;34m]\u001b[0m\u001b[0;34m\u001b[0m\u001b[0;34m\u001b[0m\u001b[0m\n\u001b[0m",
      "\u001b[0;31mKeyError\u001b[0m: 'mturk'"
     ]
    }
   ],
   "source": [
    "results['mturk']['Trial_1']"
   ]
  },
  {
   "cell_type": "code",
   "execution_count": null,
   "id": "6788c6a2",
   "metadata": {},
   "outputs": [],
   "source": [
    "results['inlab_gender']['Trial_1']"
   ]
  },
  {
   "cell_type": "code",
   "execution_count": null,
   "id": "1d1b0353",
   "metadata": {},
   "outputs": [],
   "source": [
    "\n"
   ]
  },
  {
   "cell_type": "code",
   "execution_count": null,
   "id": "36dcb4f0",
   "metadata": {},
   "outputs": [],
   "source": []
  }
 ],
 "metadata": {
  "kernelspec": {
   "display_name": "base",
   "language": "python",
   "name": "python3"
  },
  "language_info": {
   "codemirror_mode": {
    "name": "ipython",
    "version": 3
   },
   "file_extension": ".py",
   "mimetype": "text/x-python",
   "name": "python",
   "nbconvert_exporter": "python",
   "pygments_lexer": "ipython3",
   "version": "3.8.8"
  }
 },
 "nbformat": 4,
 "nbformat_minor": 5
}
