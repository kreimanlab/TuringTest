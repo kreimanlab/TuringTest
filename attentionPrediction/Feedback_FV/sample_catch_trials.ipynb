{
 "cells": [
  {
   "cell_type": "code",
   "execution_count": 3,
   "id": "420181a5",
   "metadata": {},
   "outputs": [],
   "source": [
    "import random\n",
    "import requests \n",
    "from PIL import Image, ImageSequence\n",
    "import os"
   ]
  },
  {
   "cell_type": "code",
   "execution_count": 11,
   "id": "39ab6e0f",
   "metadata": {},
   "outputs": [
    {
     "ename": "TypeError",
     "evalue": "'module' object is not callable",
     "output_type": "error",
     "traceback": [
      "\u001b[0;31m---------------------------------------------------------------------------\u001b[0m",
      "\u001b[0;31mTypeError\u001b[0m                                 Traceback (most recent call last)",
      "Input \u001b[0;32mIn [11]\u001b[0m, in \u001b[0;36m<cell line: 4>\u001b[0;34m()\u001b[0m\n\u001b[1;32m      2\u001b[0m frames \u001b[38;5;241m=\u001b[39m [_ \u001b[38;5;28;01mfor\u001b[39;00m _ \u001b[38;5;129;01min\u001b[39;00m ImageSequence\u001b[38;5;241m.\u001b[39mIterator(im)]\n\u001b[1;32m      3\u001b[0m catch_frame \u001b[38;5;241m=\u001b[39m random\u001b[38;5;241m.\u001b[39msample(frames,\u001b[38;5;241m1\u001b[39m)\n\u001b[0;32m----> 4\u001b[0m frames[\u001b[38;5;241m0\u001b[39m]\u001b[38;5;241m.\u001b[39msave(\u001b[38;5;124m\"\u001b[39m\u001b[38;5;124mout.gif\u001b[39m\u001b[38;5;124m\"\u001b[39m, save_all\u001b[38;5;241m=\u001b[39m\u001b[38;5;28;01mTrue\u001b[39;00m, append_images\u001b[38;5;241m=\u001b[39m\u001b[43mImageSequence\u001b[49m\u001b[43m(\u001b[49m\u001b[43m[\u001b[49m\u001b[43mframes\u001b[49m\u001b[43m[\u001b[49m\u001b[38;5;241;43m0\u001b[39;49m\u001b[43m]\u001b[49m\u001b[43m,\u001b[49m\u001b[43mcatch_frame\u001b[49m\u001b[38;5;241;43m*\u001b[39;49m\u001b[38;5;241;43m18\u001b[39;49m\u001b[43m,\u001b[49m\u001b[43mframes\u001b[49m\u001b[43m[\u001b[49m\u001b[38;5;241;43m-\u001b[39;49m\u001b[38;5;241;43m1\u001b[39;49m\u001b[43m]\u001b[49m\u001b[43m]\u001b[49m\u001b[43m)\u001b[49m, duration\u001b[38;5;241m=\u001b[39m\u001b[38;5;241m100\u001b[39m, loop\u001b[38;5;241m=\u001b[39m\u001b[38;5;241m-\u001b[39m\u001b[38;5;241m1\u001b[39m)\n",
      "\u001b[0;31mTypeError\u001b[0m: 'module' object is not callable"
     ]
    }
   ],
   "source": [
    "im = Image.open(\"gifs/fig_naturalsaliency_conv_only_naturalsaliency_conv_only_img60_nfix15.gif\")\n",
    "frames = [_ for _ in ImageSequence.Iterator(im)]\n",
    "catch_frame = random.sample(frames,1)\n",
    "frames[0].save(\"out.gif\", save_all=True, append_images=[frames[0],catch_frame*18,frames[-1]], duration=100, loop=-1)"
   ]
  },
  {
   "cell_type": "code",
   "execution_count": 4,
   "id": "5e34b71f",
   "metadata": {},
   "outputs": [
    {
     "name": "stdout",
     "output_type": "stream",
     "text": [
      "fig_naturalsaliency_conv_only_naturalsaliency_conv_only_img209_nfix15.gif\n",
      "fig_naturalsaliency_conv_only_naturalsaliency_conv_only_img146_nfix15.gif\n",
      "fig_naturalsaliency_conv_only_naturalsaliency_conv_only_img42_nfix15.gif\n",
      "fig_naturalsaliency_conv_only_naturalsaliency_conv_only_img50_nfix15.gif\n",
      "fig_naturalsaliency_conv_only_naturalsaliency_conv_only_img27_nfix15.gif\n",
      "fig_naturalsaliency_conv_only_naturalsaliency_conv_only_img151_nfix15.gif\n",
      "fig_naturalsaliency_conv_only_naturalsaliency_conv_only_img216_nfix15.gif\n",
      "fig_naturalsaliency_conv_only_naturalsaliency_conv_only_img205_nfix15.gif\n",
      "fig_naturalsaliency_conv_only_naturalsaliency_conv_only_img236_nfix15.gif\n",
      "fig_naturalsaliency_conv_only_naturalsaliency_conv_only_img121_nfix15.gif\n",
      "fig_naturalsaliency_conv_only_naturalsaliency_conv_only_img131_nfix15.gif\n",
      "fig_naturalsaliency_conv_only_naturalsaliency_conv_only_img94_nfix15.gif\n",
      "fig_naturalsaliency_conv_only_naturalsaliency_conv_only_img182_nfix15.gif\n",
      "fig_naturalsaliency_conv_only_naturalsaliency_conv_only_img40_nfix15.gif\n",
      "fig_naturalsaliency_conv_only_naturalsaliency_conv_only_img165_nfix15.gif\n",
      "fig_naturalsaliency_conv_only_naturalsaliency_conv_only_img130_nfix15.gif\n",
      "fig_naturalsaliency_conv_only_naturalsaliency_conv_only_img66_nfix15.gif\n",
      "fig_naturalsaliency_conv_only_naturalsaliency_conv_only_img173_nfix15.gif\n",
      "fig_naturalsaliency_conv_only_naturalsaliency_conv_only_img238_nfix15.gif\n",
      "fig_naturalsaliency_conv_only_naturalsaliency_conv_only_img80_nfix15.gif\n",
      "fig_naturalsaliency_conv_only_naturalsaliency_conv_only_img139_nfix15.gif\n",
      "fig_naturalsaliency_conv_only_naturalsaliency_conv_only_img114_nfix15.gif\n",
      "fig_naturalsaliency_conv_only_naturalsaliency_conv_only_img46_nfix15.gif\n",
      "fig_naturalsaliency_conv_only_naturalsaliency_conv_only_img15_nfix15.gif\n",
      "fig_naturalsaliency_conv_only_naturalsaliency_conv_only_img57_nfix15.gif\n",
      "fig_naturalsaliency_conv_only_naturalsaliency_conv_only_img103_nfix15.gif\n",
      "fig_naturalsaliency_conv_only_naturalsaliency_conv_only_img204_nfix15.gif\n",
      "fig_naturalsaliency_conv_only_naturalsaliency_conv_only_img44_nfix15.gif\n",
      "fig_naturalsaliency_conv_only_naturalsaliency_conv_only_img174_nfix15.gif\n",
      "fig_naturalsaliency_conv_only_naturalsaliency_conv_only_img201_nfix15.gif\n",
      "fig_naturalsaliency_conv_only_naturalsaliency_conv_only_img96_nfix15.gif\n",
      ".ipynb_checkpoints\n",
      "fig_naturalsaliency_conv_only_naturalsaliency_conv_only_img129_nfix15.gif\n",
      "fig_naturalsaliency_conv_only_naturalsaliency_conv_only_img214_nfix15.gif\n",
      "fig_naturalsaliency_conv_only_naturalsaliency_conv_only_img19_nfix15.gif\n",
      "fig_naturalsaliency_conv_only_naturalsaliency_conv_only_img49_nfix15.gif\n",
      "fig_naturalsaliency_conv_only_naturalsaliency_conv_only_img195_nfix15.gif\n",
      "fig_naturalsaliency_conv_only_naturalsaliency_conv_only_img73_nfix15.gif\n",
      "fig_naturalsaliency_conv_only_naturalsaliency_conv_only_img37_nfix15.gif\n",
      "fig_naturalsaliency_conv_only_naturalsaliency_conv_only_img180_nfix15.gif\n",
      "fig_naturalsaliency_conv_only_naturalsaliency_conv_only_img171_nfix15.gif\n",
      "fig_naturalsaliency_conv_only_naturalsaliency_conv_only_img100_nfix15.gif\n",
      "fig_naturalsaliency_conv_only_naturalsaliency_conv_only_img5_nfix15.gif\n",
      "fig_naturalsaliency_conv_only_naturalsaliency_conv_only_img110_nfix15.gif\n",
      "fig_naturalsaliency_conv_only_naturalsaliency_conv_only_img200_nfix15.gif\n",
      "fig_naturalsaliency_conv_only_naturalsaliency_conv_only_img59_nfix15.gif\n",
      "fig_naturalsaliency_conv_only_naturalsaliency_conv_only_img170_nfix15.gif\n",
      "fig_naturalsaliency_conv_only_naturalsaliency_conv_only_img2_nfix15.gif\n",
      "fig_naturalsaliency_conv_only_naturalsaliency_conv_only_img143_nfix15.gif\n",
      "fig_naturalsaliency_conv_only_naturalsaliency_conv_only_img34_nfix15.gif\n",
      "fig_naturalsaliency_conv_only_naturalsaliency_conv_only_img116_nfix15.gif\n",
      "fig_naturalsaliency_conv_only_naturalsaliency_conv_only_img197_nfix15.gif\n",
      "fig_naturalsaliency_conv_only_naturalsaliency_conv_only_img31_nfix15.gif\n",
      "fig_naturalsaliency_conv_only_naturalsaliency_conv_only_img47_nfix15.gif\n",
      "fig_naturalsaliency_conv_only_naturalsaliency_conv_only_img187_nfix15.gif\n",
      "fig_naturalsaliency_conv_only_naturalsaliency_conv_only_img93_nfix15.gif\n",
      "fig_naturalsaliency_conv_only_naturalsaliency_conv_only_img107_nfix15.gif\n",
      "fig_naturalsaliency_conv_only_naturalsaliency_conv_only_img104_nfix15.gif\n",
      "fig_naturalsaliency_conv_only_naturalsaliency_conv_only_img141_nfix15.gif\n",
      "fig_naturalsaliency_conv_only_naturalsaliency_conv_only_img164_nfix15.gif\n",
      "fig_naturalsaliency_conv_only_naturalsaliency_conv_only_img231_nfix15.gif\n",
      "fig_naturalsaliency_conv_only_naturalsaliency_conv_only_img124_nfix15.gif\n",
      "fig_naturalsaliency_conv_only_naturalsaliency_conv_only_img113_nfix15.gif\n",
      "fig_naturalsaliency_conv_only_naturalsaliency_conv_only_img147_nfix15.gif\n",
      "fig_naturalsaliency_conv_only_naturalsaliency_conv_only_img68_nfix15.gif\n",
      "fig_naturalsaliency_conv_only_naturalsaliency_conv_only_img8_nfix15.gif\n",
      "fig_naturalsaliency_conv_only_naturalsaliency_conv_only_img22_nfix15.gif\n",
      "fig_naturalsaliency_conv_only_naturalsaliency_conv_only_img1_nfix15.gif\n",
      "fig_naturalsaliency_conv_only_naturalsaliency_conv_only_img154_nfix15.gif\n",
      "fig_naturalsaliency_conv_only_naturalsaliency_conv_only_img229_nfix15.gif\n",
      "fig_naturalsaliency_conv_only_naturalsaliency_conv_only_img69_nfix15.gif\n",
      "fig_naturalsaliency_conv_only_naturalsaliency_conv_only_img6_nfix15.gif\n",
      "fig_naturalsaliency_conv_only_naturalsaliency_conv_only_img18_nfix15.gif\n",
      "fig_naturalsaliency_conv_only_naturalsaliency_conv_only_img179_nfix15.gif\n",
      "fig_naturalsaliency_conv_only_naturalsaliency_conv_only_img101_nfix15.gif\n",
      "fig_naturalsaliency_conv_only_naturalsaliency_conv_only_img190_nfix15.gif\n",
      "fig_naturalsaliency_conv_only_naturalsaliency_conv_only_img123_nfix15.gif\n",
      "fig_naturalsaliency_conv_only_naturalsaliency_conv_only_img53_nfix15.gif\n",
      "fig_naturalsaliency_conv_only_naturalsaliency_conv_only_img137_nfix15.gif\n",
      "fig_naturalsaliency_conv_only_naturalsaliency_conv_only_img61_nfix15.gif\n",
      "fig_naturalsaliency_conv_only_naturalsaliency_conv_only_img192_nfix15.gif\n",
      "fig_naturalsaliency_conv_only_naturalsaliency_conv_only_img225_nfix15.gif\n",
      "fig_naturalsaliency_conv_only_naturalsaliency_conv_only_img162_nfix15.gif\n",
      "fig_naturalsaliency_conv_only_naturalsaliency_conv_only_img202_nfix15.gif\n",
      "fig_naturalsaliency_conv_only_naturalsaliency_conv_only_img17_nfix15.gif\n",
      "fig_naturalsaliency_conv_only_naturalsaliency_conv_only_img32_nfix15.gif\n",
      "fig_naturalsaliency_conv_only_naturalsaliency_conv_only_img87_nfix15.gif\n",
      "fig_naturalsaliency_conv_only_naturalsaliency_conv_only_img39_nfix15.gif\n",
      "fig_naturalsaliency_conv_only_naturalsaliency_conv_only_img26_nfix15.gif\n",
      "fig_naturalsaliency_conv_only_naturalsaliency_conv_only_img239_nfix15.gif\n",
      "fig_naturalsaliency_conv_only_naturalsaliency_conv_only_img82_nfix15.gif\n",
      "fig_naturalsaliency_conv_only_naturalsaliency_conv_only_img38_nfix15.gif\n",
      "fig_naturalsaliency_conv_only_naturalsaliency_conv_only_img215_nfix15.gif\n",
      "fig_naturalsaliency_conv_only_naturalsaliency_conv_only_img89_nfix15.gif\n",
      "fig_naturalsaliency_conv_only_naturalsaliency_conv_only_img60_nfix15.gif\n",
      "fig_naturalsaliency_conv_only_naturalsaliency_conv_only_img65_nfix15.gif\n",
      "fig_naturalsaliency_conv_only_naturalsaliency_conv_only_img92_nfix15.gif\n",
      "fig_naturalsaliency_conv_only_naturalsaliency_conv_only_img172_nfix15.gif\n",
      "fig_naturalsaliency_conv_only_naturalsaliency_conv_only_img85_nfix15.gif\n",
      "fig_naturalsaliency_conv_only_naturalsaliency_conv_only_img230_nfix15.gif\n",
      "fig_naturalsaliency_conv_only_naturalsaliency_conv_only_img102_nfix15.gif\n"
     ]
    }
   ],
   "source": [
    "for fn in os.listdir('gifs'):\n",
    "    print(fn)"
   ]
  },
  {
   "cell_type": "code",
   "execution_count": 6,
   "id": "1d56b1f4",
   "metadata": {},
   "outputs": [
    {
     "data": {
      "text/plain": [
       "19"
      ]
     },
     "execution_count": 6,
     "metadata": {},
     "output_type": "execute_result"
    }
   ],
   "source": [
    "len(frames)"
   ]
  }
 ],
 "metadata": {
  "kernelspec": {
   "display_name": "Python 3 (ipykernel)",
   "language": "python",
   "name": "python3"
  },
  "language_info": {
   "codemirror_mode": {
    "name": "ipython",
    "version": 3
   },
   "file_extension": ".py",
   "mimetype": "text/x-python",
   "name": "python",
   "nbconvert_exporter": "python",
   "pygments_lexer": "ipython3",
   "version": "3.8.13"
  }
 },
 "nbformat": 4,
 "nbformat_minor": 5
}
