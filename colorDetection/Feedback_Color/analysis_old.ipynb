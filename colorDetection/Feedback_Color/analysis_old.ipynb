{
 "cells": [
  {
   "cell_type": "code",
   "execution_count": 1,
   "metadata": {},
   "outputs": [],
   "source": [
    "import pandas\n",
    "import math\n",
    "import json\n",
    "import numpy as np\n",
    "import sklearn\n",
    "from sklearn.metrics import confusion_matrix"
   ]
  },
  {
   "cell_type": "code",
   "execution_count": 2,
   "metadata": {},
   "outputs": [],
   "source": [
    "contents = pandas.read_csv('out.csv')"
   ]
  },
  {
   "cell_type": "code",
   "execution_count": 3,
   "metadata": {},
   "outputs": [],
   "source": [
    "allowed_algos = ['humans', 'azure', 'histogram', 'google']"
   ]
  },
  {
   "cell_type": "code",
   "execution_count": 4,
   "metadata": {},
   "outputs": [],
   "source": [
    "import matplotlib.pyplot as plt"
   ]
  },
  {
   "cell_type": "code",
   "execution_count": 5,
   "metadata": {},
   "outputs": [],
   "source": [
    "def add_to_dict(dic, val):\n",
    "    if val not in dic.keys():\n",
    "        dic[val] = 1\n",
    "    else:\n",
    "        dic[val] += 1"
   ]
  },
  {
   "cell_type": "code",
   "execution_count": 15,
   "metadata": {},
   "outputs": [],
   "source": [
    "all_ages = {}\n",
    "all_gender = {}\n",
    "all_educations = {}\n",
    "\n",
    "for row in contents.iterrows():\n",
    "    row_data = row[1]['datastring']\n",
    "    if isinstance(row_data,str):\n",
    "        json_data = json.loads(row_data)\n",
    "        add_to_dict(all_ages, json_data['questiondata']['age'])\n",
    "        add_to_dict(all_gender,json_data['questiondata']['gender'])\n",
    "        add_to_dict(all_educations,json_data['questiondata']['education'])"
   ]
  },
  {
   "cell_type": "code",
   "execution_count": 16,
   "metadata": {},
   "outputs": [],
   "source": [
    "all_ages_ = {}\n",
    "all_ages_['30-40'] = all_ages['31-35']+all_ages['36-40']\n",
    "all_ages_['<30'] = all_ages['26-30']\n",
    "all_ages_['>40'] = all_ages['41-45']+all_ages['45-50']"
   ]
  },
  {
   "cell_type": "code",
   "execution_count": 17,
   "metadata": {},
   "outputs": [
    {
     "data": {
      "image/png": "[encoded data removed]",
      "text/plain": [
       "<Figure size 432x288 with 1 Axes>"
      ]
     },
     "metadata": {},
     "output_type": "display_data"
    }
   ],
   "source": [
    "plt.pie(all_ages_.values(), labels = all_ages_.keys())\n",
    "plt.title('Age Distribution')\n",
    "plt.show() "
   ]
  },
  {
   "cell_type": "code",
   "execution_count": 18,
   "metadata": {},
   "outputs": [
    {
     "data": {
      "image/png": "[encoded data removed]",
      "text/plain": [
       "<Figure size 432x288 with 1 Axes>"
      ]
     },
     "metadata": {},
     "output_type": "display_data"
    }
   ],
   "source": [
    "plt.pie(all_gender.values(), labels = all_gender.keys())\n",
    "plt.title('Gender Distribution')\n",
    "plt.show() "
   ]
  },
  {
   "cell_type": "code",
   "execution_count": 24,
   "metadata": {},
   "outputs": [],
   "source": [
    "all_educations_ = {}\n",
    "all_educations_['Below Bachelors'] = all_educations['high school'] + all_educations['middle school']\n",
    "all_educations_['Bachelors'] = all_educations['bachelor']\n",
    "all_educations_['Above Bachelors'] = all_educations['master']"
   ]
  },
  {
   "cell_type": "code",
   "execution_count": 25,
   "metadata": {},
   "outputs": [
    {
     "data": {
      "image/png": "[encoded data removed]",
      "text/plain": [
       "<Figure size 432x288 with 1 Axes>"
      ]
     },
     "metadata": {},
     "output_type": "display_data"
    }
   ],
   "source": [
    "plt.pie(all_educations_.values(), labels = all_educations_.keys())\n",
    "plt.title('Education Distribution')\n",
    "plt.show() "
   ]
  },
  {
   "cell_type": "code",
   "execution_count": 4,
   "metadata": {},
   "outputs": [],
   "source": [
    "# for row in contents.iterrows():\n",
    "#     row_data = row[1]['datastring']\n",
    "#     if isinstance(row_data,str):\n",
    "#         json_data = json.loads(row_data)\n",
    "#         person_id = json_data['workerId']\n",
    "#         person_questionnaire = json_data['questiondata']\n",
    "#         person_df = pandas.DataFrame(columns = ['image','topic_match','response_class','actual_class','class_match','response_gender'])\n",
    "#         for i in range(1,26):\n",
    "#             ques_output = {}\n",
    "#             ques_response = json_data['data'][i]['trialdata']\n",
    "#             image = ques_response['imageID']\n",
    "#             topic_match = int(ques_response['topic']) == int(ques_response['oneWord_curr']) + 1\n",
    "\n",
    "#             response_class = ques_response['Aclass']\n",
    "#             actual_class = page_to_class[ques_response['page_name'].split('_')[1]]\n",
    "#             class_match = response_class == actual_class\n",
    "\n",
    "#             response_gender = ques_response['Agender']\n",
    "#             algo = page_to_algo[ques_response['page_name'].split('_')[1]]\n",
    "#             if algo in allowed_algos:\n",
    "#                 person_df = person_df.append({'image' : image, 'topic_match' : topic_match, 'response_class' : response_class,'actual_class':actual_class, 'class_match':class_match, 'response_gender': response_gender},ignore_index = True)"
   ]
  },
  {
   "cell_type": "code",
   "execution_count": 5,
   "metadata": {},
   "outputs": [],
   "source": [
    "# person_questionnaire"
   ]
  },
  {
   "cell_type": "code",
   "execution_count": 6,
   "metadata": {
    "scrolled": true
   },
   "outputs": [],
   "source": [
    "# person_df"
   ]
  },
  {
   "cell_type": "code",
   "execution_count": 7,
   "metadata": {},
   "outputs": [],
   "source": [
    "page_to_class = {}\n",
    "page_to_class['a'] = 'H'\n",
    "page_to_class['b'] = 'AI'\n",
    "page_to_class['c'] = 'AI'\n",
    "page_to_class['d'] = 'AI'\n",
    "\n",
    "\n",
    "page_to_algo = {}\n",
    "page_to_algo['a'] = 'humans'\n",
    "page_to_algo['b'] = 'azure'\n",
    "page_to_algo['c'] = 'histogram'\n",
    "page_to_algo['d'] = 'google'"
   ]
  },
  {
   "cell_type": "code",
   "execution_count": 8,
   "metadata": {},
   "outputs": [
    {
     "data": {
      "text/plain": [
       "dict_values(['humans', 'azure', 'histogram', 'google'])"
      ]
     },
     "execution_count": 8,
     "metadata": {},
     "output_type": "execute_result"
    }
   ],
   "source": [
    "page_to_algo.values()"
   ]
  },
  {
   "cell_type": "code",
   "execution_count": 9,
   "metadata": {},
   "outputs": [],
   "source": [
    "def parse_all_data(contents,allowed_algos = ['humans', 'azure', 'histogram', 'google']):\n",
    "    person_to_personal_df = {}   \n",
    "    for row in contents.iterrows():\n",
    "        row_data = row[1]['datastring']\n",
    "        if isinstance(row_data,str):\n",
    "            json_data = json.loads(row_data)\n",
    "            person_id = json_data['workerId']\n",
    "            person_questionnaire = json_data['questiondata']\n",
    "            person_df = pandas.DataFrame(columns = ['image','topic_match','response_class','actual_class','class_match','response_gender'])\n",
    "            for i in range(1,26):\n",
    "                ques_output = {}\n",
    "                ques_response = json_data['data'][i]['trialdata']\n",
    "                image = ques_response['imageID']\n",
    "                topic_match = int(ques_response['topic']) == int(ques_response['oneWord_curr']) + 1\n",
    "                \n",
    "                response_class = ques_response['Aclass']\n",
    "                actual_class = page_to_class[ques_response['page_name'].split('_')[1]]\n",
    "                class_match = response_class == actual_class\n",
    "\n",
    "                response_gender = ques_response['Agender']\n",
    "                algo = page_to_algo[ques_response['page_name'].split('_')[1]]\n",
    "                if algo in allowed_algos:\n",
    "                    person_df = person_df.append({'image' : image, 'topic_match' : topic_match, 'response_class' : response_class,'actual_class':actual_class, 'class_match':class_match, 'response_gender': response_gender},ignore_index = True)\n",
    "            person_to_personal_df[person_id] = person_df\n",
    "    return person_to_personal_df"
   ]
  },
  {
   "cell_type": "code",
   "execution_count": 17,
   "metadata": {},
   "outputs": [],
   "source": [
    "def run_analysis(person_to_personal_df,algos='all'):\n",
    "    prediction_accs = []\n",
    "    topic_accs = []\n",
    "    all_actuals = []\n",
    "    all_response_classes = []\n",
    "    all_genders = []\n",
    "\n",
    "    for person_id in person_to_personal_df.keys():\n",
    "        person_df = person_to_personal_df[person_id]\n",
    "        all_actuals.extend(list(person_df['actual_class']))\n",
    "        all_response_classes.extend(list(person_df['response_class']))\n",
    "        all_genders.extend(list(person_df['response_gender']))\n",
    "\n",
    "        topic_accuracy = np.sum(person_df['topic_match'])/len(person_df['topic_match'])\n",
    "        prediction_accuracy = np.sum(person_df['class_match'])/len(person_df['class_match'])\n",
    "        topic_accs.append(topic_accuracy)\n",
    "        prediction_accs.append(prediction_accuracy)\n",
    "    print('Mean Topic Prediction:%s'%np.mean(topic_accs))\n",
    "    print('Mean AI/H Prediction:%s'%np.mean(prediction_accs))\n",
    "    print('Female prediction rate:%s'%(all_genders.count('F')/len(all_genders)))\n",
    "    \n",
    "    h_h = 0\n",
    "    h_ai = 0\n",
    "    ai_h = 0\n",
    "    ai_ai = 0\n",
    "    for i in range(len(all_actuals)):\n",
    "        if all_actuals[i] == 'H':\n",
    "            if all_response_classes[i] == 'H':\n",
    "                h_h += 1\n",
    "            if all_response_classes[i] == 'AI':\n",
    "                h_ai += 1\n",
    "        if all_actuals[i] == 'AI':\n",
    "            if all_response_classes[i] == 'H':\n",
    "                ai_h += 1\n",
    "            if all_response_classes[i] == 'AI':\n",
    "                ai_ai += 1\n",
    "    confusion_df = pandas.DataFrame([[h_h/(h_h+h_ai), h_ai/(h_h+h_ai)], [ai_h/(ai_h+ai_ai), ai_ai/(ai_h+ai_ai)]], columns=['H','AI'], index=['H', 'AI'])\n",
    "    print(confusion_df)\n",
    "    return np.mean(prediction_accs),confusion_df "
   ]
  },
  {
   "cell_type": "markdown",
   "metadata": {},
   "source": [
    "# Humans vs All"
   ]
  },
  {
   "cell_type": "code",
   "execution_count": 18,
   "metadata": {},
   "outputs": [],
   "source": [
    "means = {}\n",
    "dfs = {}"
   ]
  },
  {
   "cell_type": "code",
   "execution_count": 19,
   "metadata": {},
   "outputs": [
    {
     "name": "stdout",
     "output_type": "stream",
     "text": [
      "Mean Topic Prediction:0.8713846153846154\n",
      "Mean AI/H Prediction:0.5796923076923077\n",
      "Female prediction rate:0.39076923076923076\n",
      "           H        AI\n",
      "H   0.552239  0.447761\n",
      "AI  0.393423  0.606577\n"
     ]
    }
   ],
   "source": [
    "parsed_data = parse_all_data(contents)\n",
    "means['all'], dfs['all'] = run_analysis(parsed_data)"
   ]
  },
  {
   "cell_type": "markdown",
   "metadata": {},
   "source": [
    "# Humans vs Azure"
   ]
  },
  {
   "cell_type": "code",
   "execution_count": 20,
   "metadata": {},
   "outputs": [
    {
     "name": "stdout",
     "output_type": "stream",
     "text": [
      "Mean Topic Prediction:0.8690179124413466\n",
      "Mean AI/H Prediction:0.5629368502683578\n",
      "Female prediction rate:0.3854166666666667\n",
      "           H        AI\n",
      "H   0.552239  0.447761\n",
      "AI  0.404762  0.595238\n"
     ]
    }
   ],
   "source": [
    "parsed_data = parse_all_data(contents,['humans','azure'])\n",
    "means['azure'], dfs['azure'] = run_analysis(parsed_data)"
   ]
  },
  {
   "cell_type": "markdown",
   "metadata": {},
   "source": [
    "# Humans vs Histogram"
   ]
  },
  {
   "cell_type": "code",
   "execution_count": 25,
   "metadata": {},
   "outputs": [
    {
     "name": "stdout",
     "output_type": "stream",
     "text": [
      "Mean Topic Prediction:0.8694094232353341\n",
      "Mean AI/H Prediction:0.5793395930892955\n",
      "Female prediction rate:0.39575645756457567\n",
      "           H        AI\n",
      "H   0.552239  0.447761\n",
      "AI  0.346429  0.653571\n"
     ]
    }
   ],
   "source": [
    "parsed_data = parse_all_data(contents,['humans','histogram'])\n",
    "means['histogram'], dfs['histogram'] = run_analysis(parsed_data)"
   ]
  },
  {
   "cell_type": "markdown",
   "metadata": {},
   "source": [
    "# Humans vs Google"
   ]
  },
  {
   "cell_type": "code",
   "execution_count": 26,
   "metadata": {},
   "outputs": [
    {
     "name": "stdout",
     "output_type": "stream",
     "text": [
      "Mean Topic Prediction:0.8650014321102676\n",
      "Mean AI/H Prediction:0.5567340741209519\n",
      "Female prediction rate:0.42360475754803295\n",
      "           H        AI\n",
      "H   0.552239  0.447761\n",
      "AI  0.429066  0.570934\n"
     ]
    }
   ],
   "source": [
    "parsed_data = parse_all_data(contents,['humans','google'])\n",
    "means['google'], dfs['google'] = run_analysis(parsed_data)"
   ]
  },
  {
   "cell_type": "markdown",
   "metadata": {},
   "source": [
    "# Plotting"
   ]
  },
  {
   "cell_type": "code",
   "execution_count": 27,
   "metadata": {},
   "outputs": [],
   "source": [
    "result_conf_mat = np.zeros((5,2))\n",
    "result_conf_mat[0] = np.array(dfs['all'])[0]\n",
    "result_conf_mat[1] = np.array(dfs['all'])[1]\n",
    "result_conf_mat[2] = np.array(dfs['azure'])[1]\n",
    "result_conf_mat[3] = np.array(dfs['histogram'])[1]\n",
    "result_conf_mat[4] = np.array(dfs['google'])[1]"
   ]
  },
  {
   "cell_type": "code",
   "execution_count": 33,
   "metadata": {},
   "outputs": [
    {
     "data": {
      "image/png": "[encoded data removed]",
      "text/plain": [
       "<Figure size 86.4x252 with 2 Axes>"
      ]
     },
     "metadata": {
      "needs_background": "light"
     },
     "output_type": "display_data"
    }
   ],
   "source": [
    "modelist = ['Azure','Histogram','Google']\n",
    "\n",
    "plotname = 'dominant_color_recognition'\n",
    "\n",
    "import os\n",
    "os.makedirs('figures',exist_ok=True)\n",
    "\n",
    "#plot confusion matrix\n",
    "import seaborn as sn\n",
    "import pandas as pd\n",
    "import matplotlib.pyplot as plt\n",
    "\n",
    "df_cm = pd.DataFrame(result_conf_mat, index = [i for i in ['Human','AI']+modelist],\n",
    "                  columns = [i for i in ['Human','AI']])\n",
    "plt.figure(figsize = (1.2,3.5))\n",
    "sn.heatmap(df_cm, annot=True,robust=True, cmap='RdBu_r', vmin=0, vmax=1)\n",
    "plt.xlabel(\"Predicted\")\n",
    "plt.ylabel(\"Ground Truth\")\n",
    "\n",
    "plt.savefig('figures/' + plotname + '_confmat.pdf', bbox_inches='tight')\n",
    "plt.show()"
   ]
  },
  {
   "cell_type": "code",
   "execution_count": 34,
   "metadata": {},
   "outputs": [
    {
     "name": "stdout",
     "output_type": "stream",
     "text": [
      "[[0.55223881 0.44776119]\n",
      " [0.39342266 0.60657734]\n",
      " [0.4047619  0.5952381 ]\n",
      " [0.34642857 0.65357143]\n",
      " [0.42906574 0.57093426]]\n",
      "[0.5794080753358664, 0.5737384506041223, 0.6029051172707889, 0.5615865310127564]\n"
     ]
    },
    {
     "data": {
      "image/png": "[encoded data removed]",
      "text/plain": [
       "<Figure size 180x360 with 1 Axes>"
      ]
     },
     "metadata": {
      "needs_background": "light"
     },
     "output_type": "display_data"
    }
   ],
   "source": [
    "#compute top 1 accuracy for each AI model and also overall AI\n",
    "top1 = []\n",
    "print(result_conf_mat)\n",
    "for i in range(1+len(modelist)):\n",
    "    #print(i)\n",
    "    top1.append((result_conf_mat[0][0]+result_conf_mat[i+1][1])/2)\n",
    "print(top1)\n",
    "\n",
    "import matplotlib.pyplot as plt\n",
    "import numpy as np\n",
    " \n",
    "#data\n",
    "#x-axis\n",
    "years = list(range(1, 2+len(modelist)))\n",
    "strtask = ['AI'] + modelist\n",
    "#print(years)\n",
    "#print(strtask)\n",
    "\n",
    "# Figure Size\n",
    "fig, ax = plt.subplots()\n",
    "\n",
    "#bar chart properties\n",
    "ax.bar(strtask, top1, color ='black', width = 0.3)\n",
    "  \n",
    "plt.ylabel('Top-1 Accuracy')\n",
    "plt.xticks(rotation = 90) # Rotates X-Axis Ticks by 45-degrees\n",
    "\n",
    "plt.ylim(0, 1)\n",
    "#plt.xlim(0.5, len(years)+0.5)\n",
    "\n",
    "#draw chance 0.5 \n",
    "chancex =np.arange(len(years))\n",
    "plt.plot(chancex, np.arange(len(chancex))*0+0.5, 'k--', label='chance (50%)')\n",
    "#plt.legend()\n",
    " \n",
    "fig.tight_layout()\n",
    "\n",
    "fig.set_figwidth(2.5)\n",
    "fig.set_figheight(5)\n",
    "\n",
    "fig.legend(loc='upper center', bbox_to_anchor=(0.55, 1.0), ncol=3, fancybox=True, shadow=True,frameon=False)\n",
    "\n",
    "ax.spines['top'].set_visible(False)\n",
    "ax.spines['right'].set_visible(False)\n",
    "\n",
    "plt.show()\n",
    "fig.savefig('figures/' + plotname + '.pdf', bbox_inches='tight')"
   ]
  }
 ],
 "metadata": {
  "kernelspec": {
   "display_name": "Python 3",
   "language": "python",
   "name": "python3"
  },
  "language_info": {
   "codemirror_mode": {
    "name": "ipython",
    "version": 3
   },
   "file_extension": ".py",
   "mimetype": "text/x-python",
   "name": "python",
   "nbconvert_exporter": "python",
   "pygments_lexer": "ipython3",
   "version": "3.5.6"
  }
 },
 "nbformat": 4,
 "nbformat_minor": 4
}
