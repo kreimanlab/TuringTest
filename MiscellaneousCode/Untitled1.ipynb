{
 "cells": [
  {
   "cell_type": "code",
   "execution_count": 1,
   "id": "fec01fb3",
   "metadata": {},
   "outputs": [],
   "source": [
    "import numpy as np"
   ]
  },
  {
   "cell_type": "code",
   "execution_count": 11,
   "id": "547c5fcb",
   "metadata": {},
   "outputs": [],
   "source": [
    "root = '/home/liuxiao/TuringGithub/wordAssociation/MturkExp-20240730T132439Z-001/MturkExp/word_associations/MturkExp/NO_GENDER/turing_experiment/'"
   ]
  },
  {
   "cell_type": "code",
   "execution_count": 13,
   "id": "62b6f537",
   "metadata": {},
   "outputs": [],
   "source": [
    "all_human_free = np.load(root+'all_human_free.npy')"
   ]
  },
  {
   "cell_type": "code",
   "execution_count": 14,
   "id": "5edd0960",
   "metadata": {},
   "outputs": [
    {
     "data": {
      "text/plain": [
       "(1463,)"
      ]
     },
     "execution_count": 14,
     "metadata": {},
     "output_type": "execute_result"
    }
   ],
   "source": [
    "all_human_free.shape"
   ]
  },
  {
   "cell_type": "code",
   "execution_count": 15,
   "id": "edaf301e",
   "metadata": {},
   "outputs": [
    {
     "data": {
      "text/plain": [
       "array(['brilliant', 'dumb', 'indian', ..., 'religious', 'fog', 'stars'],\n",
       "      dtype='<U14')"
      ]
     },
     "execution_count": 15,
     "metadata": {},
     "output_type": "execute_result"
    }
   ],
   "source": [
    "all_human_free"
   ]
  },
  {
   "cell_type": "code",
   "execution_count": 16,
   "id": "1e35ff7a",
   "metadata": {},
   "outputs": [],
   "source": [
    "all_human_prompt = np.load(root+'all_human_prompt.npy')"
   ]
  },
  {
   "cell_type": "code",
   "execution_count": 17,
   "id": "1db7266d",
   "metadata": {},
   "outputs": [
    {
     "data": {
      "text/plain": [
       "(3742,)"
      ]
     },
     "execution_count": 17,
     "metadata": {},
     "output_type": "execute_result"
    }
   ],
   "source": [
    "all_human_prompt.shape"
   ]
  },
  {
   "cell_type": "code",
   "execution_count": 18,
   "id": "13023b37",
   "metadata": {},
   "outputs": [
    {
     "data": {
      "text/plain": [
       "array(['nice', 'nice', 'danger', ..., 'subtract', 'add', 'guess'],\n",
       "      dtype='<U14')"
      ]
     },
     "execution_count": 18,
     "metadata": {},
     "output_type": "execute_result"
    },
    {
     "name": "stderr",
     "output_type": "stream",
     "text": [
      "Bad pipe message: %s [b'\\xf3b\\xed\\xac\\xf5\\xe6\\x9f\\xa3\\x8c\\xb3^\\xcda\\xab\\x8f\\xcb\\xc6\\x08\\x00\\x02\\xbc\\x00\\x00\\x00\\x01\\x00\\x02\\x00\\x03\\x00\\x04\\x00\\x05\\x00\\x06\\x00\\x07\\x00\\x08\\x00\\t\\x00\\n\\x00\\x0b\\x00\\x0c\\x00\\r\\x00\\x0e\\x00\\x0f\\x00\\x10\\x00\\x11\\x00\\x12\\x00\\x13\\x00\\x14\\x00\\x15\\x00\\x16\\x00\\x17\\x00\\x18\\x00\\x19\\x00\\x1a\\x00\\x1b\\x00\\x1e\\x00\\x1f\\x00 \\x00!\\x00\"\\x00#\\x00$\\x00%\\x00&\\x00\\'\\x00(\\x00)\\x00*\\x00+\\x00,\\x00-\\x00.\\x00/\\x000\\x001\\x002\\x003\\x004\\x005\\x006\\x007\\x008\\x009\\x00:\\x00;\\x00<\\x00=\\x00>\\x00?\\x00@\\x00A\\x00B\\x00C\\x00D\\x00E\\x00']\n",
      "Bad pipe message: %s [b'g\\x00h\\x00i\\x00j\\x00k\\x00l\\x00m\\x00\\x84\\x00\\x85\\x00\\x86\\x00\\x87\\x00\\x88\\x00\\x89\\x00\\x8a\\x00\\x8b\\x00\\x8c\\x00\\x8d\\x00\\x8e\\x00\\x8f\\x00\\x90\\x00\\x91\\x00\\x92\\x00\\x93\\x00\\x94\\x00\\x95\\x00\\x96\\x00\\x97\\x00\\x98\\x00\\x99\\x00\\x9a\\x00\\x9b\\x00\\x9c\\x00\\x9d\\x00\\x9e\\x00\\x9f']\n",
      "Bad pipe message: %s [b'\\xe3\\x11\\xdbNiKU\\xf9\\x12y\\xa1[\\xd3\\xa5\\x1a\\x0c\\xd5f\\x00\\x02\\xbc\\x00\\x00\\x00\\x01\\x00\\x02\\x00\\x03\\x00\\x04\\x00\\x05\\x00\\x06\\x00\\x07\\x00\\x08\\x00\\t\\x00\\n\\x00\\x0b\\x00\\x0c\\x00\\r\\x00\\x0e\\x00\\x0f\\x00\\x10\\x00\\x11\\x00\\x12\\x00\\x13\\x00\\x14\\x00\\x15\\x00\\x16\\x00\\x17\\x00\\x18\\x00\\x19\\x00\\x1a\\x00\\x1b\\x00\\x1e\\x00\\x1f\\x00 \\x00!\\x00\"\\x00#\\x00$\\x00%\\x00&\\x00\\'\\x00(\\x00)\\x00*\\x00+\\x00,\\x00-\\x00.\\x00/\\x000\\x001\\x002\\x003\\x004\\x005\\x006\\x007\\x008\\x009\\x00:\\x00;\\x00<\\x00=\\x00>\\x00?\\x00@\\x00A\\x00B\\x00C\\x00D\\x00E\\x00F\\x00g\\x00h\\x00i\\x00j\\x00k\\x00l\\x00m\\x00\\x84\\x00\\x85\\x00\\x86\\x00\\x87\\x00\\x88\\x00\\x89\\x00\\x8a\\x00\\x8b\\x00\\x8c\\x00\\x8d\\x00']\n",
      "Bad pipe message: %s [b'\\x8f\\x00\\x90\\x00\\x91\\x00\\x92\\x00\\x93\\x00\\x94\\x00\\x95\\x00\\x96\\x00\\x97\\x00\\x98\\x00\\x99\\x00\\x9a\\x00\\x9b\\x00\\x9c\\x00\\x9d\\x00\\x9e\\x00\\x9f\\x00\\xa0\\x00\\xa1\\x00\\xa2\\x00\\xa3\\x00\\xa4\\x00\\xa5\\x00\\xa6\\x00\\xa7\\x00\\xa8\\x00\\xa9\\x00\\xaa\\x00\\xab\\x00\\xac\\x00\\xad\\x00\\xae\\x00\\xaf\\x00\\xb0\\x00\\xb1\\x00\\xb2\\x00\\xb3\\x00\\xb4\\x00\\xb5\\x00\\xb6\\x00\\xb7\\x00\\xb8\\x00\\xb9\\x00\\xba\\x00\\xbb\\x00\\xbc\\x00\\xbd\\x00\\xbe\\x00\\xbf\\x00\\xc0\\x00\\xc1\\x00\\xc2\\x00\\xc3\\x00\\xc4\\x00\\xc5\\x00\\xc6\\x00\\xc7\\x13\\x01\\x13\\x02\\x13\\x03\\x13\\x04\\x13\\x05\\x13\\x06\\x13\\x07\\xc0\\x01\\xc0\\x02\\xc0\\x03\\xc0\\x04\\xc0\\x05\\xc0\\x06\\xc0\\x07']\n",
      "Bad pipe message: %s [b'\\xc0\\t\\xc0\\n\\xc0\\x0b\\xc0\\x0c\\xc0\\r\\xc0\\x0e\\xc0\\x0f\\xc0\\x10\\xc0\\x11\\xc0\\x12\\xc0\\x13\\xc0\\x14\\xc0\\x15\\xc0\\x16\\xc0\\x17\\xc0\\x18\\xc0\\x19\\xc0\\x1a\\xc0\\x1b\\xc0\\x1c\\xc0\\x1d\\xc0\\x1e\\xc0\\x1f\\xc0 \\xc0!\\xc0\"\\xc0#\\xc0$\\xc0%\\xc0&\\xc0\\'\\xc0(\\xc0)\\xc0*\\xc0+\\xc0,\\xc0-\\xc0.\\xc0/\\xc00\\xc01\\xc02\\xc03\\xc04\\xc05\\xc06\\xc07\\xc08\\xc09\\xc0:\\xc0;\\xc0<\\xc0=\\xc0>\\xc0?\\xc0@\\xc0A\\xc0B\\xc0C\\xc0D\\xc0E\\xc0F\\xc0G\\xc0H\\xc0I\\xc0J\\xc0K\\xc0L\\xc0M\\xc0N\\xc0O\\xc0P\\xc0Q\\xc0R\\xc0S\\xc0T\\xc0U\\xc0V\\xc0W\\xc0X\\xc0Y\\xc0Z\\xc0[\\xc0\\\\\\xc0]\\xc0^\\xc0_\\xc0`\\xc0a\\xc0b\\xc0c\\xc0d\\xc0e\\xc0f\\xc0g\\xc0']\n",
      "Bad pipe message: %s [b'i\\xc0j\\xc0k\\xc0l\\xc0m\\xc0n\\xc0o\\xc0p\\xc0q\\xc0r\\xc0s\\xc0t\\xc0u\\xc0v\\xc0w\\xc0x\\xc0y\\xc0z\\xc0{\\xc0|\\xc0}\\xc0~\\xc0\\x7f\\xc0\\x80\\xc0\\x81\\xc0\\x82\\xc0\\x83\\xc0\\x84\\xc0\\x85\\xc0\\x86\\xc0\\x87\\xc0\\x88\\xc0\\x89\\xc0\\x8a\\xc0\\x8b\\xc0\\x8c\\xc0\\x8d\\xc0\\x8e\\xc0\\x8f\\xc0\\x90\\xc0\\x91\\xc0\\x92\\xc0\\x93\\xc0\\x94\\xc0\\x95\\xc0\\x96\\xc0\\x97\\xc0\\x98\\xc0\\x99\\xc0\\x9a\\xc0\\x9b\\xc0\\x9c']\n"
     ]
    }
   ],
   "source": [
    "all_human_prompt"
   ]
  }
 ],
 "metadata": {
  "kernelspec": {
   "display_name": "Python 3 (ipykernel)",
   "language": "python",
   "name": "python3"
  },
  "language_info": {
   "codemirror_mode": {
    "name": "ipython",
    "version": 3
   },
   "file_extension": ".py",
   "mimetype": "text/x-python",
   "name": "python",
   "nbconvert_exporter": "python",
   "pygments_lexer": "ipython3",
   "version": "3.8.13"
  }
 },
 "nbformat": 4,
 "nbformat_minor": 5
}
